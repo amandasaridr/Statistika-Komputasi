{
 "cells": [
  {
   "cell_type": "markdown",
   "id": "7b8c6727",
   "metadata": {},
   "source": [
    "# Amandasari Dinda Rabbani 22083010093 Tugas Statkom C"
   ]
  },
  {
   "cell_type": "markdown",
   "id": "6b2c123a",
   "metadata": {},
   "source": [
    "Buatlah fungsi koefisien korelasi hingga mendapatkan kesimpulannya? tampilkan nilai mean x dan y nilai kovarian nilai standart deviasi x dan y nilai koefisien korelasi serta kesimpulannya"
   ]
  },
  {
   "cell_type": "markdown",
   "id": "30d068b9",
   "metadata": {},
   "source": [
    "Seorang peneliti ingin mengetahui apakah ada hubungan antara waktu belajar dengan nilai ujian mahasiswa. Peneliti mengambil sampel 20 mahasiswa dan mengukur waktu belajar mereka dalam jam serta nilai ujian mereka dalam skala 0-100. Berikut adalah data yang diperoleh:\n",
    "Waktu belajar (jam): [3, 5, 6, 2, 4, 5, 6, 8, 7, 5, 4, 6, 7, 5, 3, 2, 6, 8, 7, 5]\n",
    "Nilai ujian: [60, 70, 80, 50, 65, 75, 80, 90, 85, 70, 65, 80, 85, 75, 55, 50, 70, 83, 85, 90]"
   ]
  },
  {
   "cell_type": "code",
   "execution_count": 2,
   "id": "eb72cc60",
   "metadata": {},
   "outputs": [],
   "source": [
    "waktu_belajar = [3, 5, 6, 2, 4, 5, 6, 8, 7, 5, 4, 6, 7, 5, 3, 2, 6, 8, 7, 5] \n",
    "nilai_ujian = [60, 70, 80, 50, 65, 75, 80, 90, 85, 70, 65, 80, 85, 75, 55, 50, 70, 83, 85, 90]\n",
    "               \n",
    "from scipy.stats import pearsonr\n",
    "import numpy as np\n",
    "    \n",
    "def korelasi(waktu_belajar, nilai_ujian):\n",
    "    #menggunakan library scipy\n",
    "    corr,_ = pearsonr(waktu_belajar, nilai_ujian)\n",
    "    print(\"Korelasi person dari data tersebut adalah %.3f\" % corr)\n",
    "    #menghitung mean variabel x dan y\n",
    "    mean_x = np.mean(waktu_belajar)\n",
    "    mean_y = np.mean(nilai_ujian)\n",
    "    print(\"Hasil rata-rata x adalah\", mean_x)\n",
    "    print(\"Hasil rata-rata y adalah\", mean_y)\n",
    "    #Menghitung Kovarian\n",
    "    covar = 0\n",
    "    for i in range(len(waktu_belajar)):\n",
    "        covar+=((waktu_belajar[i]-mean_x)*(nilai_ujian[i]-mean_y))\n",
    "    kovarian = covar/len(waktu_belajar)\n",
    "    print(\"Hasil dari kovarian adalah\", kovarian)\n",
    "    #menghitung standart deviasi x dan y\n",
    "    std_x = np.std(waktu_belajar)\n",
    "    std_y = np.std(nilai_ujian)\n",
    "    #Menghitung korelasi pearson\n",
    "    r = kovarian/(std_x*std_y)\n",
    "    print(\"Hasil dari korelasi pearson adalah\", r)\n",
    "    #membuat keputusan interpretasi\n",
    "    if r > 0.5 and r <= 1:\n",
    "        print('Jadi kesimpulannya adalah Strong Positive Correlation')\n",
    "    elif r == 0.5:\n",
    "        print('Jadi kesimpulannya adalah Moderate Positive Correlation')\n",
    "    elif r >= 0 and r < 0.5 :\n",
    "        print('Jadi kesimpulannya adalah Weak Positive Correlation')\n",
    "    elif r < 0 and r > -0.5:\n",
    "        print('Jadi kesimpulannya adalah Weak Negative Correlation')\n",
    "    elif r == -0.5:\n",
    "        print('Jadi kesimpulannya adalah Moderate Negative Correlation')\n",
    "    else :\n",
    "        print('Jadi kesimpulannya adalah Strong Negative Correlation')\n",
    "    return"
   ]
  },
  {
   "cell_type": "code",
   "execution_count": 3,
   "id": "9a3a1dd3",
   "metadata": {},
   "outputs": [
    {
     "name": "stdout",
     "output_type": "stream",
     "text": [
      "Korelasi person dari data tersebut adalah 0.906\n",
      "Hasil rata-rata x adalah 5.2\n",
      "Hasil rata-rata y adalah 73.15\n",
      "Hasil dari kovarian adalah 19.32\n",
      "Hasil dari korelasi pearson adalah 0.9062394698655952\n",
      "Jadi kesimpulannya adalah Strong Positive Correlation\n"
     ]
    }
   ],
   "source": [
    "korelasi(waktu_belajar, nilai_ujian)"
   ]
  },
  {
   "cell_type": "markdown",
   "id": "6a676dfd",
   "metadata": {},
   "source": [
    "Buatlah fungsi python untuk analisis regresi linier sederhana sesuai dengan contoh yang diberikan"
   ]
  },
  {
   "cell_type": "markdown",
   "id": "2fceb481",
   "metadata": {},
   "source": [
    "Seorang peneliti ingin mengetahui hubungan antara tinggi badan dengan berat badan pada manusia dewasa. Peneliti mengambil sampel 10 orang dewasa dan mengukur tinggi badan mereka dalam cm serta berat badan mereka dalam kg. Berikut adalah data yang diperoleh: Tinggi badan (cm): 170, 165, 180, 175, 168, 172, 178, 182, 175, 168\n",
    "Berat badan (kg): 70, 60, 85, 75, 65, 72, 80, 90, 78, 70"
   ]
  },
  {
   "cell_type": "code",
   "execution_count": 4,
   "id": "e0ccfc6d",
   "metadata": {},
   "outputs": [],
   "source": [
    "x = [170, 165, 180, 175, 168, 172, 178, 182, 175, 168]\n",
    "y = [70, 60, 85, 75, 65, 72, 80, 90, 78, 70]\n",
    "\n",
    "def regresi_linier_sederhana(x,y):\n",
    "    #Tentukan nilai mean x dan y\n",
    "    mean_x = np.mean(x)\n",
    "    mean_y = np.mean(y)\n",
    "    print(\"Hasil dari mean x adalah\", mean_x)\n",
    "    print(\"Hasil dari mean y adalah\", mean_y)\n",
    "    #Menghitung sxy\n",
    "    n = len(x)\n",
    "    covar_xy = 0\n",
    "    for i in range(n):\n",
    "        covar_xy+=((x[i]-mean_x)*(y[i]-mean_y))\n",
    "    s_xy = covar_xy\n",
    "    print(\"Hasil dari sxy adalah\", s_xy)\n",
    "    #Menghitung sxx\n",
    "    var_xx = 0\n",
    "    for i in range(n):\n",
    "        var_xx+=((x[i]-mean_x)**2)\n",
    "    s_xx = var_xx\n",
    "    print(\"Hasil dari sxx adalah\", s_xx)\n",
    "    #menghitung b\n",
    "    b = s_xy/s_xx\n",
    "    print(\"Hasil dari b adalah\", b)\n",
    "    #menghitung a\n",
    "    a = mean_y - (b*mean_x)\n",
    "    print(\"Hasil dari a adalah\", a)\n",
    "    #menghitung prediksi\n",
    "    y_topi = a + (b*7)\n",
    "    print(\"Hasil dari y topi adalah\", y_topi)"
   ]
  },
  {
   "cell_type": "code",
   "execution_count": 5,
   "id": "57041397",
   "metadata": {},
   "outputs": [
    {
     "name": "stdout",
     "output_type": "stream",
     "text": [
      "Hasil dari mean x adalah 173.3\n",
      "Hasil dari mean y adalah 74.5\n",
      "Hasil dari sxy adalah 450.4999999999999\n",
      "Hasil dari sxx adalah 286.1\n",
      "Hasil dari b adalah 1.5746242572527083\n",
      "Hasil dari a adalah -198.38238378189436\n",
      "Hasil dari y topi adalah -187.3600139811254\n"
     ]
    }
   ],
   "source": [
    "regresi_linier_sederhana(x,y)"
   ]
  },
  {
   "cell_type": "code",
   "execution_count": null,
   "id": "fe6f8ba9",
   "metadata": {},
   "outputs": [],
   "source": []
  }
 ],
 "metadata": {
  "kernelspec": {
   "display_name": "Python 3 (ipykernel)",
   "language": "python",
   "name": "python3"
  },
  "language_info": {
   "codemirror_mode": {
    "name": "ipython",
    "version": 3
   },
   "file_extension": ".py",
   "mimetype": "text/x-python",
   "name": "python",
   "nbconvert_exporter": "python",
   "pygments_lexer": "ipython3",
   "version": "3.9.12"
  }
 },
 "nbformat": 4,
 "nbformat_minor": 5
}
