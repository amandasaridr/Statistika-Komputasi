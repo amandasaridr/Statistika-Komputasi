{
 "cells": [
  {
   "cell_type": "markdown",
   "id": "882eebc1",
   "metadata": {},
   "source": [
    "# Amandasari Dinda Rabbani (22083010093) Statkom C (Tugas)"
   ]
  },
  {
   "cell_type": "markdown",
   "id": "718b9804",
   "metadata": {},
   "source": [
    "Berdasarkan pembahasan pada pertemuan ini, buatlah program statistika deskripsi menjadi satu fungsi sehingga didapatkan nilai rata-rata, median, modus/mode, range,varians dan standart deviasi dengan data nilai mahasiswa berikut ini : 75,80,86,72,65,90,55,70,70,80,92,75,75,78,80"
   ]
  },
  {
   "cell_type": "code",
   "execution_count": 1,
   "id": "fe430f01",
   "metadata": {},
   "outputs": [
    {
     "name": "stdout",
     "output_type": "stream",
     "text": [
      "Hasil data nilai mahasiswa yang sudah terurut dari kecil hingga terbesar adalah [55, 65, 70, 70, 72, 75, 75, 75, 78, 80, 80, 80, 86, 90, 92]\n",
      "Hasil mean dari data nilai mahasiswa adalah 76.2\n",
      "Hasil median dari nilai mahasiswa adalah 75\n",
      "Hasil modus dari nilai mahasiswa adalah 75\n",
      "Hasil range dari nilai mahasiswa adalah 37\n",
      "Hasil varians dari nilai mahasiswa adalah 89.74285714285715\n",
      "Hasil standart deviasi dari nilai mahasiswa adalah 9.473270667665796\n"
     ]
    }
   ],
   "source": [
    "def statistika_deskripsi(data_nilai_mahasiswa):\n",
    "    #mean\n",
    "    rata_rata = sum(data_nilai_mahasiswa) / len(data_nilai_mahasiswa)\n",
    "    \n",
    "    #median\n",
    "    data_nilai_mahasiswa.sort()\n",
    "    if len(data_nilai_mahasiswa) % 2 == 0:\n",
    "        median = (data_nilai_mahasiswa[len(data_nilai_mahasiswa)//2 - 1] + data_nilai_mahasiswa[len(data_nilai_mahasiswa)//2]) / 2\n",
    "    else:\n",
    "        median = data_nilai_mahasiswa[len(data_nilai_mahasiswa)//2]\n",
    "        \n",
    "    #modus\n",
    "    from collections import Counter\n",
    "    modus = Counter(data_nilai_mahasiswa).most_common(1)[0][0]\n",
    "    \n",
    "    #range\n",
    "    range_value = max(data_nilai_mahasiswa) - min(data_nilai_mahasiswa)\n",
    "    \n",
    "    #varians\n",
    "    varian = sum((x - rata_rata) ** 2 for x in data_nilai_mahasiswa) / (len(data_nilai_mahasiswa)-1)\n",
    "    \n",
    "    #standart deviasi\n",
    "    import math\n",
    "    stndrt_dvs = math.sqrt(varian)\n",
    "    \n",
    "    return (rata_rata, median, modus, range_value, varian, stndrt_dvs)\n",
    "    \n",
    "data_nilai_mahasiswa = [75,80,86,72,65,90,55,70,70,80,92,75,75,78,80]\n",
    "rata_rata, median, modus, range_value, varian, stndrt_dvs = statistika_deskripsi(data_nilai_mahasiswa)\n",
    "print(\"Hasil data nilai mahasiswa yang sudah terurut dari kecil hingga terbesar adalah\", data_nilai_mahasiswa)\n",
    "print(\"Hasil mean dari data nilai mahasiswa adalah\", rata_rata)\n",
    "print(\"Hasil median dari nilai mahasiswa adalah\", median)\n",
    "print(\"Hasil modus dari nilai mahasiswa adalah\", modus)\n",
    "print(\"Hasil range dari nilai mahasiswa adalah\", range_value)\n",
    "print(\"Hasil varians dari nilai mahasiswa adalah\", varian)\n",
    "print(\"Hasil standart deviasi dari nilai mahasiswa adalah\", stndrt_dvs)"
   ]
  },
  {
   "cell_type": "code",
   "execution_count": null,
   "id": "976e5087",
   "metadata": {},
   "outputs": [],
   "source": []
  }
 ],
 "metadata": {
  "kernelspec": {
   "display_name": "Python 3 (ipykernel)",
   "language": "python",
   "name": "python3"
  },
  "language_info": {
   "codemirror_mode": {
    "name": "ipython",
    "version": 3
   },
   "file_extension": ".py",
   "mimetype": "text/x-python",
   "name": "python",
   "nbconvert_exporter": "python",
   "pygments_lexer": "ipython3",
   "version": "3.9.12"
  }
 },
 "nbformat": 4,
 "nbformat_minor": 5
}
