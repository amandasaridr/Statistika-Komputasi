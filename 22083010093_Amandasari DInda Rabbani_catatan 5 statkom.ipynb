{
 "cells": [
  {
   "cell_type": "markdown",
   "id": "0257ceb6",
   "metadata": {},
   "source": [
    "# Amandasari Dinda Rabbani 22083010093 Statkom C"
   ]
  },
  {
   "cell_type": "markdown",
   "id": "8e58f910",
   "metadata": {},
   "source": [
    "# Korelasi dan Regresi Linier"
   ]
  },
  {
   "cell_type": "markdown",
   "id": "11b7e2c2",
   "metadata": {},
   "source": [
    "Korelasi adalah teknik statistika untuk menganalisis kekuatan dan arah hubungan antara dua variabel kuantitatif\n",
    "Koefisien korelasi adalah angka yang menunjukkan kekuatan dan arah hubungan statistik antara dua variabel\n",
    "Kekuatan adalah hubungan ditentukan oleh kedekatan titik-titik dengan garis lurus ketika sepasang nilai dari dua variabel di plot pada grafik, tugasnya untuk kerangka acuan untuk mengevaluasi hubungan \n",
    "Arahnya adalah ditentukan oleh apakah satu variabel secara umum meningkat atau menurun ketika variabel lainnya meningkat\n",
    "Untuk analisi korelasi data nilai dua variabel harus berasal dari samping berpasangan\n",
    "Metode : Korelasi antara dua variabel berskala rasio (numerik) diwakili oleh huruf r yang mengambil nilai antara -1 dan +1 saja yang disebur Pearson Product Moment atau koefisien korelasi\n",
    "Contohnya \n",
    "1. Scatter Plot\n",
    "2. Karl Pearson's Correlation\n",
    "    Cara menghitung Nilai Korelasi Pearson:\n",
    "        a. Menghitung nilai mean x dan y\n",
    "        b. Menghitung nilai kovarian x dan y\n",
    "        c. Standart deviasi x\n",
    "        d. Standart deviasi y\n",
    "        e. Mengkalikan standart deviasi x dengan y\n",
    "        f. Membagi kovarian x dan y dengan hasil kali standart deviasi"
   ]
  },
  {
   "cell_type": "code",
   "execution_count": null,
   "id": "3d061320",
   "metadata": {},
   "outputs": [],
   "source": [
    "index = [100,102,104,107,105,112,103,99] #Misalkan x\n",
    "jmlh_pengangguran = [15,12,13,11,12,12,19,26] #Misalkan y\n",
    "#menggunakan Library Scipy\n",
    "from scipy.stats import pearsonr\n",
    "corr,_ = pearsonr(index, jmlh_pengangguran)\n",
    "print(\"Korelasi person adalah %.3f\" % corr)"
   ]
  },
  {
   "cell_type": "code",
   "execution_count": null,
   "id": "d56734d4",
   "metadata": {},
   "outputs": [],
   "source": [
    "#menghitung mean variabel x dan y\n",
    "import numpy as np\n",
    "mean_x = np.mean(index)\n",
    "mean_y = np.mean(jmlh_pengangguran)\n",
    "print(\"Hasil rata-rata x adalah\", mean_x)\n",
    "print(\"Hasil rata-rata y adalah\", mean_y)"
   ]
  },
  {
   "cell_type": "code",
   "execution_count": null,
   "id": "df98c9ad",
   "metadata": {},
   "outputs": [],
   "source": [
    "#Menghitung Kovarian\n",
    "covar = 0\n",
    "for i in range(len(index)):\n",
    "    covar+=((index[i]-mean_x)*(jmlh_pengangguran[i]-mean_y))\n",
    "kovarian = covar/len(index)\n",
    "print(\"Hasil dari kovarian adalah\", kovarian)"
   ]
  },
  {
   "cell_type": "code",
   "execution_count": null,
   "id": "2275f492",
   "metadata": {},
   "outputs": [],
   "source": [
    "#Membuat Keputusan Interpretasi\n",
    "from scipy.stats import pearsonr\n",
    "\n",
    "index = [100,102,104,107,105,112,103,99] \n",
    "jmlh_pengangguran = [15,12,13,11,12,12,19,26]\n",
    "\n",
    "r, p_value = pearsonr(index, jmlh_pengangguran)\n",
    "\n",
    "if r > 0.5 and r <= 1:\n",
    "    print(\"Jadi kesimpulannya adalah strong positif correlation\")\n",
    "elif r == 0.5:\n",
    "    print(\"Jadi kesimpulannya adalah moderate positif correlation\")\n",
    "elif r >= 0 and r < 0.5:\n",
    "    print(\"Jadi kesimpulannya adalah weak positif correlation\")\n",
    "elif r < 0 and r > -0.5:\n",
    "    print(\"Jadi kesimpulannya adalah weak negatif correlation\")\n",
    "elif r == -0.5:\n",
    "    print(\"Jadi kesimpulannya adalah moderate negatif correlation\")\n",
    "else:\n",
    "    print(\"Jadi kesimpulannya adalah strong negatif correlation\")"
   ]
  },
  {
   "cell_type": "markdown",
   "id": "2a228cd9",
   "metadata": {},
   "source": [
    "Regresi Linear Sederhana adalah suatu teknik statistik yang mengungkapkan hubungan antara dua variabel dalam bentuk persamaan untuk memperkirakan nilai suatu variabel berdasarkan nilai yang diberikan variabel lain dan tujuan adalah memnentukan persamaan regresi yang masuk akal dan cocok dengan data yang representatif sedemikian rupa sehingga kesalahan variannya sekecil mungkin\n",
    "Tujuan regresi adalah memperkirakan y atau mendapatkan y bar berdasarkan estimasi A dan sehingga menghasilkanmodel prediksi y(ybar)\n",
    "Metode yang digunakan untuk menentukan koefisien regresi a dan b salah satunya adalah Metode Least Squares dan tujuannya adalah meminimumkan Sum of Squares dari simpangan nilai y dteramati dengan nilai yang diprediksi"
   ]
  },
  {
   "cell_type": "code",
   "execution_count": null,
   "id": "257d2cc8",
   "metadata": {},
   "outputs": [],
   "source": []
  },
  {
   "cell_type": "code",
   "execution_count": null,
   "id": "26962420",
   "metadata": {},
   "outputs": [],
   "source": []
  }
 ],
 "metadata": {
  "kernelspec": {
   "display_name": "Python 3 (ipykernel)",
   "language": "python",
   "name": "python3"
  },
  "language_info": {
   "codemirror_mode": {
    "name": "ipython",
    "version": 3
   },
   "file_extension": ".py",
   "mimetype": "text/x-python",
   "name": "python",
   "nbconvert_exporter": "python",
   "pygments_lexer": "ipython3",
   "version": "3.9.12"
  }
 },
 "nbformat": 4,
 "nbformat_minor": 5
}
