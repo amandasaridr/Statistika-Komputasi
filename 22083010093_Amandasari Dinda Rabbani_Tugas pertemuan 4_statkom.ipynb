{
 "cells": [
  {
   "cell_type": "markdown",
   "id": "ded02b77",
   "metadata": {},
   "source": [
    "# Nama : Amandasari Dinda Rabbani\n",
    "# NPM   : 22083010093\n",
    "# Kelas : Statkom C"
   ]
  },
  {
   "cell_type": "markdown",
   "id": "6d2f7a9b",
   "metadata": {},
   "source": [
    "# Pengujian Mean 2 Populasi dengan Sampel >30"
   ]
  },
  {
   "cell_type": "markdown",
   "id": "d0eca3f9",
   "metadata": {},
   "source": [
    "Dugaan sementara menyebutkan bahwa rata-rata berat badan siswa SMA X kelas XI adalah 65 kg dan simpangan baku sama. Untuk menyelidiki dugaan tersebut ini diambil sampel sebanyak 36 orang siswa untuk diteliti dan diperoleh hasil rata-rata berat badan siswa tersebut adalah 64 dan simpangan baku 12 dengan taraf signifinkasi = 0,05"
   ]
  },
  {
   "cell_type": "code",
   "execution_count": 1,
   "id": "57fdb277",
   "metadata": {},
   "outputs": [
    {
     "name": "stdout",
     "output_type": "stream",
     "text": [
      "Hasil dari nilai uji statistika : -0.5\n",
      "Hasil dari nilai kritis : -2.030107928250343\n",
      "Hipotesis nol ditolak karena hasil dari rata-rata berat badan Siswa SMA XI tidak sama dengan hasilnya\n"
     ]
    }
   ],
   "source": [
    "import math\n",
    "from scipy.stats import t\n",
    "\n",
    "rata_rata_populasi = 65\n",
    "p_stndrt_dvs = 12\n",
    "jumlah_sampel = 36\n",
    "rata_rata_sampel = 64\n",
    "alpha = 0.05\n",
    "\n",
    "def uji_hipotesis_berat_siswa_SMA(rata_rata_populasi, p_stndrt_dvs, jumlah_sampel, rata_rata_sampel, alpha):\n",
    "    #untuk menghitung nilai uji statistik\n",
    "    t_statistik = (rata_rata_sampel - rata_rata_populasi) / (p_stndrt_dvs / math.sqrt(jumlah_sampel))\n",
    "    print(\"Hasil dari nilai uji statistika :\", t_statistik)\n",
    "    \n",
    "    #untuk menghitung derajat keleluasaan\n",
    "    df = jumlah_sampel - 1\n",
    "    \n",
    "    #untuk menghitung nilai kritis\n",
    "    t_kritis = t.ppf(alpha/2, df)\n",
    "    print(\"Hasil dari nilai kritis :\", t_kritis)\n",
    "    \n",
    "    #untuk mengambil keputusan dari hasil yang sudah dibuat\n",
    "    if abs(t_statistik) > t_kritis:\n",
    "        return (\"Hipotesis nol ditolak karena hasil dari rata-rata berat badan Siswa SMA XI tidak sama dengan hasilnya\")\n",
    "    else:\n",
    "        return (\"Hipotesis nol gagal tolak karena hasil dari rata berat badan SIswa SMA XI sama dengan hasilnya\")\n",
    "\n",
    "print(uji_hipotesis_berat_siswa_SMA(rata_rata_populasi, p_stndrt_dvs, jumlah_sampel, rata_rata_sampel, alpha))"
   ]
  },
  {
   "cell_type": "markdown",
   "id": "3f0bc718",
   "metadata": {},
   "source": [
    "# Pengujian Mean 2 Populasi dengan Sampel <30"
   ]
  },
  {
   "cell_type": "markdown",
   "id": "7266e6e3",
   "metadata": {},
   "source": [
    "Sebuah toko elektronik ingin membandingkan rata-rata penjualan televisi merek A dan B selama bulan Maret. Mereka mengambil sampel 15 televisi merek A dan 18 televisi merek B. Rata-rata penjualan televisi merek A adalah Rp 8.500.000 dengan standar deviasi sebesar Rp 1.200.000, sedangkan rata-rata penjualan televisi merek B adalah Rp 7.800.000 dengan standar deviasi sebesar Rp 1.500.000. Dapatkah kita menyimpulkan bahwa terdapat perbedaan yang signifikan antara rata-rata penjualan televisi merek A dan B pada tingkat kepercayaan 95%?"
   ]
  },
  {
   "cell_type": "code",
   "execution_count": 2,
   "id": "12d411ad",
   "metadata": {},
   "outputs": [
    {
     "name": "stdout",
     "output_type": "stream",
     "text": [
      "Hasil dari nilai derajar kebebasan : 31\n",
      "Hasil dari nilai sp : 1372659.298000453\n",
      "Hasil dari uji statistika : 1.4586805628552142\n",
      "Hasil dari nilai kritis : -2.039513446396408\n",
      "Hipotesis nol ditolak karena Terjadi perbedaan signifikan antara rata-rata penjualan televisi merek A dan B pada tingkat kepercayaan 95%\n"
     ]
    }
   ],
   "source": [
    "import math\n",
    "from scipy.stats import t\n",
    "\n",
    "sampel_tv_merek_a = 15\n",
    "sampel_tv_merek_b = 18\n",
    "rata_rata_penjualan_tv_merek_a = 8500000\n",
    "rata_rata_penjualan_tv_merek_b = 7800000\n",
    "standart_deviasi_tv_merek_a = 1200000\n",
    "standart_deviasi_tv_merek_b = 1500000\n",
    "alpha = 0.05\n",
    "\n",
    "def uji_hipotesis_penjualan_tv(sampel_tv_merek_a, sampel_tv_merek_b, rata_rata_penjualan_tv_merek_a, rata_rata_penjualan_tv_merek_b, standart_deviasi_tv_merek_a, standart_deviasi_tv_merek_b, alpha):\n",
    "    #hitung nilai uji statistika dan derajat kebebasan atau keleluasaan\n",
    "    df = sampel_tv_merek_a + sampel_tv_merek_b - 2\n",
    "    print(\"Hasil dari nilai derajar kebebasan :\", df)\n",
    "    sp = math.sqrt(((sampel_tv_merek_a-1)*(standart_deviasi_tv_merek_a**2)+(sampel_tv_merek_b-1)*(standart_deviasi_tv_merek_b**2))/df)\n",
    "    print(\"Hasil dari nilai sp :\", sp)\n",
    "    t_statistik = (rata_rata_penjualan_tv_merek_a - rata_rata_penjualan_tv_merek_b) / (sp*math.sqrt((1/sampel_tv_merek_a) + (1/sampel_tv_merek_b)))\n",
    "    print(\"Hasil dari uji statistika :\", t_statistik)\n",
    "    \n",
    "    #hitung nilai kritis\n",
    "    t_kritis = t.ppf(alpha/2, df)\n",
    "    print(\"Hasil dari nilai kritis :\", t_kritis)\n",
    "    \n",
    "    #mengambil keputusan dari hasil yang kita dapat\n",
    "    if t_statistik < -t_kritis or t_statistik < t_kritis:\n",
    "        return (\"Hipotesis nol ditolak karena Terjadi perbedaan signifikan antara rata-rata penjualan televisi merek A dan B pada tingkat kepercayaan 95%\")\n",
    "    else:\n",
    "        return (\"Hipotesis nol gagal tolak karena Tidak terdapat perbedaan signifikan antara rata-rata penjualan televisi merek A dan B pada tingkat kepercayaan 95%\")\n",
    "\n",
    "print(uji_hipotesis_penjualan_tv(sampel_tv_merek_a, sampel_tv_merek_b, rata_rata_penjualan_tv_merek_a, rata_rata_penjualan_tv_merek_b, standart_deviasi_tv_merek_a, standart_deviasi_tv_merek_b, alpha))"
   ]
  },
  {
   "cell_type": "markdown",
   "id": "1a577639",
   "metadata": {},
   "source": [
    "# Pengujian Varians Lebih dari 2 Populasi"
   ]
  },
  {
   "cell_type": "markdown",
   "id": "91a95468",
   "metadata": {},
   "source": [
    "Sebuah perusahaan mengklaim bahwa produk mereka memiliki performa yang lebih baik daripada produk pesaingnya dalam menghasilkan suara yang jernih. Untuk membuktikan klaim tersebut, mereka melakukan pengujian pada tiga produk: produk mereka sendiri (produk A), produk pesaing (produk B), dan produk yang dianggap standar (produk C). Sampel yang diambil adalah sebagai berikut:\n",
    "\n",
    "Sampel produk A: 20, 30, 25, 35, 28, 33, 27, 29, 32, 26 \n",
    "Sampel produk B: 22, 24, 18, 30, 25, 20, 28, 26, 21, 27 \n",
    "Sampel produk C: 24, 22, 23, 25, 21, 27, 26, 20, 28, 22 \n",
    "\n",
    "Diketahui varians dari produk A, B, dan C berturut-turut adalah 4, 6, dan 3. Dapatkah perusahaan tersebut membuktikan klaim mereka? Gunakan tingkat signifikansi 5%."
   ]
  },
  {
   "cell_type": "code",
   "execution_count": 3,
   "id": "d8894c8c",
   "metadata": {},
   "outputs": [
    {
     "name": "stdout",
     "output_type": "stream",
     "text": [
      "Interval keyakinan untuk rasio varians antara populasi A dan B: 1.5 sampai 0.6666666666666666\n",
      "Interval keyakinan untuk rasio varians antara populasi A dan C: 0.75 sampai 1.3333333333333333\n",
      "Interval keyakinan untuk rasio varians antara populasi B dan C: 0.5 sampai 2.0\n",
      "Hasil dari F hitung : 4.333333333333333\n",
      "Hasil dari P-value : 0.01988616703371282\n",
      "Kesimpulan: Tolak H0, terdapat perbedaan yang signifikan antara varians ketiga populasi\n"
     ]
    }
   ],
   "source": [
    "import numpy as np\n",
    "from scipy.stats import f\n",
    "\n",
    "def uji_varians(sampel_a, sampel_b, sampel_c, var_a, var_b, var_c, alpha):\n",
    "    semua_varians = ((len(sampel_a)-1)*var_a) + ((len(sampel_b)-1)*var_b) + ((len(sampel_c)-1)*var_c)\n",
    "    jumlah_varians = len(sampel_a) + len(sampel_b) + len(sampel_c) - 3\n",
    "    mean_a = np.mean(sampel_a)\n",
    "    mean_b = np.mean(sampel_b)\n",
    "    mean_c = np.mean(sampel_c)\n",
    "    n_a, n_b, n_c = len(sampel_a), len(sampel_b), len(sampel_c)\n",
    "    df_1, df_2 = n_a - 1, n_b - 1\n",
    "    df_3 = n_c - 1\n",
    "    f_kritis_1 = f.ppf(alpha / 2, df_1, jumlah_varians - df_1)\n",
    "    f_kritis_2 = f.ppf(1 - alpha / 2, df_1, jumlah_varians - df_1)\n",
    "    print(\"Interval keyakinan untuk rasio varians antara populasi A dan B:\", (semua_varians / (df_1 * var_a)) / (semua_varians / (df_2 * var_b)), \"sampai\", (semua_varians / (df_2 * var_b)) / (semua_varians / (df_1 * var_a)))\n",
    "    print(\"Interval keyakinan untuk rasio varians antara populasi A dan C:\", (semua_varians / (df_1 * var_a)) / (semua_varians / (df_3 * var_c)), \"sampai\", (semua_varians / (df_3 * var_c)) / (semua_varians / (df_1 * var_a)))\n",
    "    print(\"Interval keyakinan untuk rasio varians antara populasi B dan C:\", (semua_varians / (df_2 * var_b)) / (semua_varians / (df_3 * var_c)), \"sampai\", (semua_varians / (df_3 * var_c)) / (semua_varians / (df_2 * var_b)))\n",
    "    f_statistik = semua_varians / jumlah_varians\n",
    "    print(\"Hasil dari F hitung :\", f_statistik)\n",
    "    p_value = 1 - f.cdf(f_statistik, df_1, df_2)\n",
    "    print(\"Hasil dari P-value :\", p_value)\n",
    "    if p_value < alpha:\n",
    "        print(\"Kesimpulan: Tolak H0, terdapat perbedaan yang signifikan antara varians ketiga populasi\")\n",
    "    else:\n",
    "        print(\"Kesimpulan: Gagal tolak H0, tidak terdapat perbedaan yang signifikan antara varians ketiga populasi\")\n",
    "    \n",
    "    return\n",
    "\n",
    "uji_varians([20, 30, 25, 35, 28, 33, 27, 29, 32, 26], [22, 24, 18, 30, 25, 20, 28, 26, 21, 27], [24, 22, 23, 25, 21, 27, 26, 20, 28, 22], 4, 6, 3, 0.05)"
   ]
  },
  {
   "cell_type": "code",
   "execution_count": null,
   "id": "4b0e9b46",
   "metadata": {},
   "outputs": [],
   "source": []
  }
 ],
 "metadata": {
  "kernelspec": {
   "display_name": "Python 3 (ipykernel)",
   "language": "python",
   "name": "python3"
  },
  "language_info": {
   "codemirror_mode": {
    "name": "ipython",
    "version": 3
   },
   "file_extension": ".py",
   "mimetype": "text/x-python",
   "name": "python",
   "nbconvert_exporter": "python",
   "pygments_lexer": "ipython3",
   "version": "3.9.12"
  }
 },
 "nbformat": 4,
 "nbformat_minor": 5
}
