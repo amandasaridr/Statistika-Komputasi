{
 "cells": [
  {
   "cell_type": "markdown",
   "id": "7256d3bc",
   "metadata": {},
   "source": [
    "# Amandasari DInda Rabbani (22083010093) Statkom C"
   ]
  },
  {
   "cell_type": "markdown",
   "id": "e89dbdf3",
   "metadata": {},
   "source": [
    "1"
   ]
  },
  {
   "cell_type": "code",
   "execution_count": 1,
   "id": "6621df6f",
   "metadata": {},
   "outputs": [
    {
     "name": "stdout",
     "output_type": "stream",
     "text": [
      "mean dari step deviationnya adalah 175.77586206896552\n"
     ]
    }
   ],
   "source": [
    "def mean_stepdev (mi,frekuensi,A):\n",
    "  jumlah = len (mi)\n",
    "  total_frekuensi = sum (frekuensi)\n",
    "  total_step_deviation = 0\n",
    "  for b in range(jumlah):\n",
    "    step_deviation = abs(mi[b]-A)\n",
    "    total_step_deviation += frekuensi[b]*step_deviation\n",
    "  mean_step_deviation = total_step_deviation / total_frekuensi\n",
    "  return mean_step_deviation\n",
    "mi = [22.5, 27.5, 32.5, 37.5, 42.5]\n",
    "frekuensi = [30, 160, 210, 180, 145]\n",
    "A = 210\n",
    "hasil = mean_stepdev (mi,frekuensi,A)\n",
    "print(\"mean dari step deviationnya adalah\",hasil)"
   ]
  },
  {
   "cell_type": "markdown",
   "id": "f71316e0",
   "metadata": {},
   "source": [
    "2"
   ]
  },
  {
   "cell_type": "code",
   "execution_count": 2,
   "id": "a3fd5199",
   "metadata": {},
   "outputs": [
    {
     "name": "stdout",
     "output_type": "stream",
     "text": [
      "mean dari harmonik harga saham selama 3 bulan adalah 155.07692307692307\n"
     ]
    }
   ],
   "source": [
    "def mean_harmonik(data):\n",
    "    n = len(data)\n",
    "    return n / sum(1/x for x in data)\n",
    "\n",
    "harga_saham = [120, 160, 210]\n",
    "mean_harmonik_3bulan = mean_harmonik(harga_saham)\n",
    "print(\"mean dari harmonik harga saham selama 3 bulan adalah\", mean_harmonik_3bulan)"
   ]
  },
  {
   "cell_type": "markdown",
   "id": "f155ebaa",
   "metadata": {},
   "source": [
    "3"
   ]
  },
  {
   "cell_type": "code",
   "execution_count": 14,
   "id": "9af8324f",
   "metadata": {},
   "outputs": [
    {
     "name": "stdout",
     "output_type": "stream",
     "text": [
      "standart error adalah 0.4604345773288535\n",
      "hasil t-value adalah -1.520302849670749\n",
      "hasil p-value adalah 0.9341725933429716\n",
      "titik kritis adalah 1.6605512170440568\n"
     ]
    },
    {
     "data": {
      "text/plain": [
       "'Tolak H0, dikarenakan berat mean siswa laki yang berpartisipasi dalam atletik sekolah lebih sehat dari siswa laki lain'"
      ]
     },
     "execution_count": 14,
     "metadata": {},
     "output_type": "execute_result"
    }
   ],
   "source": [
    "import scipy.stats as st\n",
    "import numpy as np\n",
    "\n",
    "n1 = 50\n",
    "n2 = 50\n",
    "rata_rata_n1 = 68.2\n",
    "rata_rata_n2 = 67.5\n",
    "stndrt_dvs_n1 = 2.5\n",
    "stndrt_dvs_n2 = 2.8\n",
    "a = 0.05\n",
    "\n",
    "def uji_t(rata_rata_n1, rata_rata_n2, stndrt_dvs_n1, stndrt_dvs_n2, n1, n2, a):\n",
    "    # menghitung derajat kebebasan\n",
    "    df = n1 + n2 - 2\n",
    "    \n",
    "    # menghitung standar error\n",
    "    stndrt_error = np.sqrt(((stndrt_dvs_n1*2)/n1) + ((stndrt_dvs_n2*2)/n2))\n",
    "    \n",
    "    # menghitung t-value\n",
    "    t_value = (rata_rata_n2 - rata_rata_n1) / stndrt_error\n",
    "    \n",
    "    # menghitung p-value\n",
    "    p_value = 1 - st.t.cdf(t_value, df)\n",
    "    \n",
    "    sntdrt_error = np.sqrt(((stndrt_dvs_n1*2)/n1) + ((stndrt_dvs_n2*2)/n2))\n",
    "    print(\"standart error adalah\",stndrt_error)\n",
    "    \n",
    "    # tampilkan hasil uji\n",
    "    print(\"hasil t-value adalah\", t_value)\n",
    "    print(\"hasil p-value adalah\", p_value)\n",
    "    \n",
    "    #titik kritis satu arah\n",
    "    alpha = 0.05\n",
    "    nilai_q = 1 - a\n",
    "    t_critis = st.t.ppf(nilai_q, df)\n",
    "    print(\"titik kritis adalah\", t_critis)\n",
    "    \n",
    "    # menentukan keputusan\n",
    "    if t_value < a:\n",
    "        return \"Tolak H0, dikarenakan berat mean siswa laki yang berpartisipasi dalam atletik sekolah lebih sehat dari siswa laki lain\"\n",
    "    else:\n",
    "        return \"Gagal tolak H0, dikarenakan tidak cukup bukti bahwa berat mean siswa laki yang berpartisipasi dalam atletik sekolah lebih sehat dari siswa laki lain\"\n",
    "    \n",
    "    return\n",
    "\n",
    "# menjalankan fungsi uji_t\n",
    "uji_t(rata_rata_n1, rata_rata_n2, stndrt_dvs_n1, stndrt_dvs_n2, n1, n2, a)"
   ]
  },
  {
   "cell_type": "markdown",
   "id": "629671c0",
   "metadata": {},
   "source": [
    "4a"
   ]
  },
  {
   "cell_type": "code",
   "execution_count": 15,
   "id": "201c3ab0",
   "metadata": {},
   "outputs": [
    {
     "name": "stdout",
     "output_type": "stream",
     "text": [
      "Korelasi Person adalah 0.897\n",
      "Hasil mean dari x adalah 2.8888888888888857\n",
      "Hasil mean dari y adalah -4.2222222222222285\n",
      "Hasil dari kovarian adalah 7237.753086419755\n",
      "Hasil standar deviasi x adalah 11.009535709702288\n",
      "Hasil standar deviasi y adalah 13.447658018139794\n",
      "Hasil dari korelasi pearson adalah 48.88640513451531\n",
      "Strong Negative Correlation\n"
     ]
    }
   ],
   "source": [
    "from scipy.stats import pearsonr\n",
    "\n",
    "def koefisien_korelasi(umur, tekanan_darah):\n",
    "    corr,_= pearsonr(umur, tekanan_darah)\n",
    "    print(\"Korelasi Person adalah %.3f\" %corr)\n",
    "    \n",
    "    # 1. Menghitung mean variabel x dan y\n",
    "    mean_x = np.mean(umur) - 49\n",
    "    mean_y = np.mean(tekanan_darah) - 145\n",
    "    print(\"Hasil mean dari x adalah\",mean_x)\n",
    "    print(\"Hasil mean dari y adalah\",mean_y)\n",
    "\n",
    "    # 2. Menghitung Kovarian\n",
    "    covar = 0\n",
    "    for a in range(len(umur)):\n",
    "        covar+=((umur[a] - mean_x) * (tekanan_darah[a] - mean_y))\n",
    "    kovarian = covar/len(umur)\n",
    "    print(\"Hasil dari kovarian adalah\", kovarian)\n",
    "\n",
    "    # 3. Menghitung Standar deviasi x dan y\n",
    "    std_x = np.std(umur)\n",
    "    print(\"Hasil standar deviasi x adalah\",std_x)\n",
    "    std_y = np.std(tekanan_darah)\n",
    "    print(\"Hasil standar deviasi y adalah\",std_y)\n",
    "\n",
    "    # 4. menghitung korelasi person\n",
    "    r = kovarian/(std_x * std_y)\n",
    "    print(\"Hasil dari korelasi pearson adalah\", r)\n",
    "    \n",
    "    # 5. Membuat keputusan interpretasi\n",
    "    if r > 0.5 and r <=1:\n",
    "        print(\"Strong Positif Correlation\")\n",
    "    elif r == 0.5:\n",
    "        print(\"Moderate Positive Correlation\")\n",
    "    elif r >= 0 and r<0.5:\n",
    "        print(\"Weak Positive Correlation\")\n",
    "    elif r < 0 and r> -0.5:\n",
    "        print(\"Weak Negative Correlation\")\n",
    "    elif r == -0.5:\n",
    "        print(\"Moderate Negative Correlation\")\n",
    "    else:\n",
    "        print(\"Strong Negative Correlation\")\n",
    "        \n",
    "umur = [56, 42, 36, 47, 49, 42, 60, 72, 63]\n",
    "tekanan_darah = [147, 125, 118, 128, 145, 140, 155, 160, 149]\n",
    "\n",
    "koefisien_korelasi(umur, tekanan_darah)"
   ]
  },
  {
   "cell_type": "markdown",
   "id": "b9a54c0c",
   "metadata": {},
   "source": [
    "4b"
   ]
  },
  {
   "cell_type": "code",
   "execution_count": 6,
   "id": "840f2996",
   "metadata": {},
   "outputs": [
    {
     "name": "stdout",
     "output_type": "stream",
     "text": [
      "Hasil dari slope dari garis regresi antara umur dan tekanan darah adalah 1.0952332450600937\n"
     ]
    }
   ],
   "source": [
    "def hitung_slope(x, y):\n",
    "    n = len(x)\n",
    "    xy = [x[i] * y[i] for i in range(n)]\n",
    "    x2 = [x[i] ** 2 for i in range(n)]\n",
    "    \n",
    "    sum_x = sum(x)\n",
    "    sum_y = sum(y)\n",
    "    sum_xy = sum(xy)\n",
    "    sum_x2 = sum(x2)\n",
    "    \n",
    "    byx = (n * sum_xy - sum_x * sum_y) / (n * sum_x2 - sum_x ** 2)\n",
    "    \n",
    "    return byx\n",
    "\n",
    "umur = [56, 42, 36, 47, 49, 42, 60, 72, 63]\n",
    "tekanan_darah = [147, 125, 118, 128, 145, 140, 155, 160, 149]\n",
    "\n",
    "slope_dari_garis_regresi = hitung_slope(umur, tekanan_darah)\n",
    "\n",
    "print(\"Hasil dari slope dari garis regresi antara umur dan tekanan darah adalah\", slope_dari_garis_regresi)"
   ]
  },
  {
   "cell_type": "code",
   "execution_count": null,
   "id": "3387869a",
   "metadata": {},
   "outputs": [],
   "source": []
  }
 ],
 "metadata": {
  "kernelspec": {
   "display_name": "Python 3 (ipykernel)",
   "language": "python",
   "name": "python3"
  },
  "language_info": {
   "codemirror_mode": {
    "name": "ipython",
    "version": 3
   },
   "file_extension": ".py",
   "mimetype": "text/x-python",
   "name": "python",
   "nbconvert_exporter": "python",
   "pygments_lexer": "ipython3",
   "version": "3.9.12"
  }
 },
 "nbformat": 4,
 "nbformat_minor": 5
}
