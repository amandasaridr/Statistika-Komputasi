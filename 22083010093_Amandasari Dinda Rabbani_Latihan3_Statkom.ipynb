{
 "cells": [
  {
   "cell_type": "markdown",
   "id": "0f40b3d0",
   "metadata": {},
   "source": [
    "# Nama : Amandasari Dinda Rabbani (22083010093) "
   ]
  },
  {
   "cell_type": "markdown",
   "id": "49f8913c",
   "metadata": {},
   "source": [
    "# Ukuran Pemusatan Data"
   ]
  },
  {
   "cell_type": "markdown",
   "id": "20abe0c3",
   "metadata": {},
   "source": [
    "1. Mean"
   ]
  },
  {
   "cell_type": "code",
   "execution_count": 1,
   "id": "4693ecf5",
   "metadata": {},
   "outputs": [
    {
     "name": "stdout",
     "output_type": "stream",
     "text": [
      "nilai rata-ratanya adalah 166\n"
     ]
    }
   ],
   "source": [
    "import statistics as st\n",
    "tinggi = (156,176,153,180,165)\n",
    "rata2 = st.mean(tinggi)\n",
    "print(\"nilai rata-ratanya adalah\", rata2)"
   ]
  },
  {
   "cell_type": "code",
   "execution_count": 2,
   "id": "a374c81e",
   "metadata": {},
   "outputs": [
    {
     "name": "stdout",
     "output_type": "stream",
     "text": [
      "nilai rata-ratanya adalah 166.0\n"
     ]
    }
   ],
   "source": [
    "def mean(tinggi):\n",
    "    return sum(tinggi)/len(tinggi)\n",
    "\n",
    "print(\"nilai rata-ratanya adalah\", mean(tinggi))"
   ]
  },
  {
   "cell_type": "code",
   "execution_count": 3,
   "id": "67dcea73",
   "metadata": {},
   "outputs": [
    {
     "name": "stdout",
     "output_type": "stream",
     "text": [
      "nilai rata-ratanya adalah 161.22641509433961\n"
     ]
    }
   ],
   "source": [
    "tinggi = (156,176,153,180,165)\n",
    "bobot = (20,5,10,3,15)\n",
    "total_semua_bobot = sum(bobot)\n",
    "def mean():\n",
    "    hasil_bobot = (tinggi[l]*bobot[l] for l in range(len(tinggi)))\n",
    "    return sum(hasil_bobot)/sum(bobot)\n",
    "\n",
    "print(\"nilai rata-ratanya adalah\", mean())"
   ]
  },
  {
   "cell_type": "markdown",
   "id": "c67fbcdd",
   "metadata": {},
   "source": [
    "2. Median"
   ]
  },
  {
   "cell_type": "code",
   "execution_count": 4,
   "id": "cfeb6a5d",
   "metadata": {},
   "outputs": [
    {
     "data": {
      "text/plain": [
       "[153, 156, 165, 170, 176, 180]"
      ]
     },
     "execution_count": 4,
     "metadata": {},
     "output_type": "execute_result"
    }
   ],
   "source": [
    "tinggi = [156, 176, 153, 180, 165, 170]\n",
    "tinggi.sort()\n",
    "tinggi"
   ]
  },
  {
   "cell_type": "code",
   "execution_count": 5,
   "id": "1fe7fc69",
   "metadata": {},
   "outputs": [
    {
     "name": "stdout",
     "output_type": "stream",
     "text": [
      "mediannya adalah 167.5\n"
     ]
    }
   ],
   "source": [
    "def nilai_tengah(tinggi):\n",
    "    tinggi.sort()\n",
    "    n = len(tinggi)\n",
    "    nilai_tengah = n // 2\n",
    "\n",
    "    if n % 2 == 1:\n",
    "       return tinggi[nilai_tengah]\n",
    "    else:\n",
    "      return((tinggi[nilai_tengah-1] + tinggi[nilai_tengah])/2)\n",
    "\n",
    "print(\"mediannya adalah\", nilai_tengah(tinggi))"
   ]
  },
  {
   "cell_type": "markdown",
   "id": "0299dc53",
   "metadata": {},
   "source": [
    "3. Modus"
   ]
  },
  {
   "cell_type": "code",
   "execution_count": 6,
   "id": "09a9363c",
   "metadata": {},
   "outputs": [
    {
     "name": "stdout",
     "output_type": "stream",
     "text": [
      "Counter({156: 3, 165: 2, 176: 1, 153: 1, 180: 1, 170: 1})\n"
     ]
    }
   ],
   "source": [
    "tinggi = (156, 176, 153, 180, 165, 170, 165, 156, 156)\n",
    "from collections import Counter\n",
    "tinggi_counter = Counter(tinggi)\n",
    "print(tinggi_counter)"
   ]
  },
  {
   "cell_type": "code",
   "execution_count": 7,
   "id": "364ffae7",
   "metadata": {},
   "outputs": [
    {
     "data": {
      "text/plain": [
       "156"
      ]
     },
     "execution_count": 7,
     "metadata": {},
     "output_type": "execute_result"
    }
   ],
   "source": [
    "#metode yang lain\n",
    "\n",
    "from collections import Counter\n",
    "\n",
    "data_tinggi_yang_baru = (156, 176, 153, 180, 165, 170, 165, 156, 156)\n",
    "\n",
    "def modus(i):\n",
    "    count = Counter(i)\n",
    "    return list(count.keys())[0]\n",
    "\n",
    "modus(data_tinggi_yang_baru)"
   ]
  },
  {
   "cell_type": "markdown",
   "id": "0253ef0a",
   "metadata": {},
   "source": [
    "# Ukuran Penyebaran Data"
   ]
  },
  {
   "cell_type": "markdown",
   "id": "2acbb939",
   "metadata": {},
   "source": [
    "1. Range"
   ]
  },
  {
   "cell_type": "code",
   "execution_count": 9,
   "id": "9fc48d41",
   "metadata": {},
   "outputs": [
    {
     "name": "stdout",
     "output_type": "stream",
     "text": [
      "Nilai inputan tinggi mahasiswa\n",
      "156 176 153 176 153 180 165 170 165 156 156\n",
      "hasil range dari data tinggi adalah 27\n"
     ]
    }
   ],
   "source": [
    "print ('Nilai inputan tinggi mahasiswa')\n",
    "tinggi = [int(x) for x in input().split()]\n",
    "def nilai_range(tinggi):\n",
    "    return max(tinggi) - min(tinggi)\n",
    "print('hasil range dari data tinggi adalah', nilai_range(tinggi))"
   ]
  },
  {
   "cell_type": "markdown",
   "id": "f82a3524",
   "metadata": {},
   "source": [
    "2. Varians"
   ]
  },
  {
   "cell_type": "code",
   "execution_count": 13,
   "id": "78cb09b2",
   "metadata": {},
   "outputs": [
    {
     "name": "stdout",
     "output_type": "stream",
     "text": [
      "nilai inputan tinggi mahasiswa \n",
      "156 176 153 176 153 180 165 170 165 156 156\n",
      "hasil varians dari data tinggi adalah None\n"
     ]
    }
   ],
   "source": [
    "print('nilai inputan tinggi mahasiswa ')\n",
    "tinggi = [int (x) for x in input().split()]\n",
    "def varians(tinggi):\n",
    "  diff = 0\n",
    "  rata2 = sum(tinggi)/len(tinggi)\n",
    "\n",
    "print(\"hasil varians dari data tinggi adalah\",varians(tinggi))"
   ]
  },
  {
   "cell_type": "code",
   "execution_count": 1,
   "id": "b7c43b40",
   "metadata": {},
   "outputs": [
    {
     "name": "stdout",
     "output_type": "stream",
     "text": [
      "83.4320987654321\n"
     ]
    }
   ],
   "source": [
    "data_tinggi_mahasiswa = (156, 176, 153, 180, 165, 170, 165, 156, 156)\n",
    "def varians(data_tinggi_mahasiswa):\n",
    "    diff = 0\n",
    "    rata2 = sum(data_tinggi_mahasiswa)/len(data_tinggi_mahasiswa)\n",
    "    for v in data_tinggi_mahasiswa:\n",
    "        diff = diff + (v-rata2)**2\n",
    "    return diff/len(data_tinggi_mahasiswa)\n",
    "print(varians(data_tinggi_mahasiswa))"
   ]
  },
  {
   "cell_type": "markdown",
   "id": "ee05e852",
   "metadata": {},
   "source": [
    "3. Standart Deviasi"
   ]
  },
  {
   "cell_type": "code",
   "execution_count": 2,
   "id": "6eb5bd9b",
   "metadata": {},
   "outputs": [
    {
     "name": "stdout",
     "output_type": "stream",
     "text": [
      "9.134117295362048\n"
     ]
    }
   ],
   "source": [
    "import math\n",
    "data_tinggi_mahasiswa = (156, 176, 153, 180, 165, 170, 165, 156, 156)\n",
    "def standart_deviasi(data_tinggi_mahasiswa):\n",
    "    vrns = varians(data_tinggi_mahasiswa)\n",
    "    stndrt_dvs= math.sqrt(vrns)\n",
    "    return stndrt_dvs\n",
    "print(standart_deviasi(data_tinggi_mahasiswa))"
   ]
  },
  {
   "cell_type": "code",
   "execution_count": null,
   "id": "c69ba298",
   "metadata": {},
   "outputs": [],
   "source": []
  }
 ],
 "metadata": {
  "kernelspec": {
   "display_name": "Python 3 (ipykernel)",
   "language": "python",
   "name": "python3"
  },
  "language_info": {
   "codemirror_mode": {
    "name": "ipython",
    "version": 3
   },
   "file_extension": ".py",
   "mimetype": "text/x-python",
   "name": "python",
   "nbconvert_exporter": "python",
   "pygments_lexer": "ipython3",
   "version": "3.9.12"
  }
 },
 "nbformat": 4,
 "nbformat_minor": 5
}
