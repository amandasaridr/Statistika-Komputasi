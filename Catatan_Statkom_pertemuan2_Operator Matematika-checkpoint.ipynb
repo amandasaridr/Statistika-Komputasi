{
 "cells": [
  {
   "cell_type": "markdown",
   "id": "d7c9c908",
   "metadata": {},
   "source": [
    "# Operator Aritmatika"
   ]
  },
  {
   "cell_type": "code",
   "execution_count": 1,
   "id": "1f8f5315",
   "metadata": {},
   "outputs": [
    {
     "data": {
      "text/plain": [
       "6"
      ]
     },
     "execution_count": 1,
     "metadata": {},
     "output_type": "execute_result"
    }
   ],
   "source": [
    "3+5-2"
   ]
  },
  {
   "cell_type": "code",
   "execution_count": 2,
   "id": "489e7708",
   "metadata": {},
   "outputs": [
    {
     "data": {
      "text/plain": [
       "10"
      ]
     },
     "execution_count": 2,
     "metadata": {},
     "output_type": "execute_result"
    }
   ],
   "source": [
    "20-5*2"
   ]
  },
  {
   "cell_type": "code",
   "execution_count": 3,
   "id": "75d1a64f",
   "metadata": {},
   "outputs": [
    {
     "data": {
      "text/plain": [
       "5.0"
      ]
     },
     "execution_count": 3,
     "metadata": {},
     "output_type": "execute_result"
    }
   ],
   "source": [
    "(20-5*2)/2"
   ]
  },
  {
   "cell_type": "code",
   "execution_count": 4,
   "id": "8f0e9061",
   "metadata": {},
   "outputs": [
    {
     "data": {
      "text/plain": [
       "2.5"
      ]
     },
     "execution_count": 4,
     "metadata": {},
     "output_type": "execute_result"
    }
   ],
   "source": [
    "10/4"
   ]
  },
  {
   "cell_type": "code",
   "execution_count": 5,
   "id": "6e7680c3",
   "metadata": {},
   "outputs": [
    {
     "data": {
      "text/plain": [
       "2"
      ]
     },
     "execution_count": 5,
     "metadata": {},
     "output_type": "execute_result"
    }
   ],
   "source": [
    "10//4"
   ]
  },
  {
   "cell_type": "code",
   "execution_count": 6,
   "id": "47114aff",
   "metadata": {},
   "outputs": [
    {
     "data": {
      "text/plain": [
       "2"
      ]
     },
     "execution_count": 6,
     "metadata": {},
     "output_type": "execute_result"
    }
   ],
   "source": [
    "10%4"
   ]
  },
  {
   "cell_type": "code",
   "execution_count": 7,
   "id": "35927e5e",
   "metadata": {},
   "outputs": [
    {
     "data": {
      "text/plain": [
       "81"
      ]
     },
     "execution_count": 7,
     "metadata": {},
     "output_type": "execute_result"
    }
   ],
   "source": [
    "3**4"
   ]
  },
  {
   "cell_type": "markdown",
   "id": "9dca8ed0",
   "metadata": {},
   "source": [
    "# Operator Assignment"
   ]
  },
  {
   "cell_type": "markdown",
   "id": "85525331",
   "metadata": {},
   "source": [
    "Operator yang digunakan untuk memasukkan suatu nilai kedalam variabel."
   ]
  },
  {
   "cell_type": "code",
   "execution_count": 8,
   "id": "c8d0e7bf",
   "metadata": {},
   "outputs": [
    {
     "data": {
      "text/plain": [
       "100"
      ]
     },
     "execution_count": 8,
     "metadata": {},
     "output_type": "execute_result"
    }
   ],
   "source": [
    "benda1=50\n",
    "benda2=50\n",
    "benda1+benda2"
   ]
  },
  {
   "cell_type": "code",
   "execution_count": 9,
   "id": "82386d4f",
   "metadata": {},
   "outputs": [
    {
     "data": {
      "text/plain": [
       "20"
      ]
     },
     "execution_count": 9,
     "metadata": {},
     "output_type": "execute_result"
    }
   ],
   "source": [
    "var=5\n",
    "var+=15\n",
    "var"
   ]
  },
  {
   "cell_type": "markdown",
   "id": "997dff79",
   "metadata": {},
   "source": [
    "# Operator String "
   ]
  },
  {
   "cell_type": "code",
   "execution_count": 10,
   "id": "914b8e10",
   "metadata": {},
   "outputs": [
    {
     "data": {
      "text/plain": [
       "'contoh string yang tunggal'"
      ]
     },
     "execution_count": 10,
     "metadata": {},
     "output_type": "execute_result"
    }
   ],
   "source": [
    "\"contoh string yang tunggal\""
   ]
  },
  {
   "cell_type": "code",
   "execution_count": 11,
   "id": "957cafda",
   "metadata": {},
   "outputs": [
    {
     "data": {
      "text/plain": [
       "'contoh string yang tunggal'"
      ]
     },
     "execution_count": 11,
     "metadata": {},
     "output_type": "execute_result"
    }
   ],
   "source": [
    "\"contoh string yang tunggal\""
   ]
  },
  {
   "cell_type": "code",
   "execution_count": 12,
   "id": "e0935712",
   "metadata": {},
   "outputs": [
    {
     "name": "stdout",
     "output_type": "stream",
     "text": [
      "mangga dan apel adalah buah-buahan\n"
     ]
    }
   ],
   "source": [
    "print (\"mangga\", \"dan apel\", \"adalah buah-buahan\")"
   ]
  },
  {
   "cell_type": "code",
   "execution_count": 13,
   "id": "e9497751",
   "metadata": {},
   "outputs": [
    {
     "name": "stdout",
     "output_type": "stream",
     "text": [
      "why we don't play football?\n"
     ]
    }
   ],
   "source": [
    "print (\"why we don\\'t play football?\")"
   ]
  },
  {
   "cell_type": "markdown",
   "id": "37d1dbbf",
   "metadata": {},
   "source": [
    "# String Indexing"
   ]
  },
  {
   "cell_type": "code",
   "execution_count": 14,
   "id": "14c9d43a",
   "metadata": {},
   "outputs": [
    {
     "name": "stdout",
     "output_type": "stream",
     "text": [
      "T\n"
     ]
    }
   ],
   "source": [
    "x = \"This is a text sring\"\n",
    "print(x[0])"
   ]
  },
  {
   "cell_type": "code",
   "execution_count": 15,
   "id": "7a871887",
   "metadata": {},
   "outputs": [
    {
     "name": "stdout",
     "output_type": "stream",
     "text": [
      "g\n"
     ]
    }
   ],
   "source": [
    "print(x[-1])"
   ]
  },
  {
   "cell_type": "code",
   "execution_count": 16,
   "id": "aa3df8bc",
   "metadata": {},
   "outputs": [
    {
     "name": "stdout",
     "output_type": "stream",
     "text": [
      "This is\n"
     ]
    }
   ],
   "source": [
    "print(x[0:7])"
   ]
  },
  {
   "cell_type": "code",
   "execution_count": 22,
   "id": "8014997d",
   "metadata": {},
   "outputs": [
    {
     "name": "stdout",
     "output_type": "stream",
     "text": [
      "This is a test string\n"
     ]
    }
   ],
   "source": [
    "# str1=\"This is a test string\"\n",
    "print(str1.strip())"
   ]
  },
  {
   "cell_type": "code",
   "execution_count": 18,
   "id": "a6bee5f0",
   "metadata": {},
   "outputs": [
    {
     "name": "stdout",
     "output_type": "stream",
     "text": [
      "this is a test string\n"
     ]
    }
   ],
   "source": [
    "str2=\"This is a test string\"\n",
    "print(str2.lower())"
   ]
  },
  {
   "cell_type": "code",
   "execution_count": 19,
   "id": "fa53777f",
   "metadata": {},
   "outputs": [
    {
     "name": "stdout",
     "output_type": "stream",
     "text": [
      "THIS IS A TEST STRING\n"
     ]
    }
   ],
   "source": [
    "str3=\"This is a test string\"\n",
    "print(str3.upper())"
   ]
  },
  {
   "cell_type": "code",
   "execution_count": 20,
   "id": "bb5a52d3",
   "metadata": {},
   "outputs": [
    {
     "name": "stdout",
     "output_type": "stream",
     "text": [
      "I ate a mangga\n"
     ]
    }
   ],
   "source": [
    "str4=\"I ate a banana\"\n",
    "print(str4.replace(\"banana\",\"mangga\"))"
   ]
  },
  {
   "cell_type": "code",
   "execution_count": 21,
   "id": "b6289257",
   "metadata": {},
   "outputs": [
    {
     "name": "stdout",
     "output_type": "stream",
     "text": [
      "['Hi mate', ' how do you do?']\n"
     ]
    }
   ],
   "source": [
    "str5=\"Hi mate, how do you do?\"\n",
    "print(str5.split(\",\"))"
   ]
  },
  {
   "cell_type": "markdown",
   "id": "d6c8576a",
   "metadata": {},
   "source": [
    "# Conditional Statements and Iterations"
   ]
  },
  {
   "cell_type": "markdown",
   "id": "b05028e0",
   "metadata": {},
   "source": [
    "Conditional Statements dalam python adalah if, elif dan else"
   ]
  },
  {
   "cell_type": "markdown",
   "id": "81f5f567",
   "metadata": {},
   "source": [
    "# Statements If"
   ]
  },
  {
   "cell_type": "code",
   "execution_count": null,
   "id": "50ad9acd",
   "metadata": {},
   "outputs": [],
   "source": [
    "Student_marks = 90\n",
    "if(Student_marks>100):\n",
    "    print(\"marks exceed 100.\")"
   ]
  },
  {
   "cell_type": "code",
   "execution_count": 23,
   "id": "39d2ee23",
   "metadata": {},
   "outputs": [
    {
     "name": "stdout",
     "output_type": "stream",
     "text": [
      "Enter marks obtained by a student\n",
      "20\n"
     ]
    }
   ],
   "source": [
    "print((\"Enter marks obtained by a student\"))\n",
    "student_marks =int(input())\n",
    "if(student_marks >100):\n",
    "    print(\"marks exceed 100.\")"
   ]
  },
  {
   "cell_type": "markdown",
   "id": "e2fd69eb",
   "metadata": {},
   "source": [
    "# Statements If dan Else"
   ]
  },
  {
   "cell_type": "code",
   "execution_count": 24,
   "id": "256b8c9f",
   "metadata": {},
   "outputs": [
    {
     "name": "stdout",
     "output_type": "stream",
     "text": [
      "Input marks of a student\n",
      "40\n",
      "Not outsanding\n"
     ]
    }
   ],
   "source": [
    "print('Input marks of a student')\n",
    "student_marks =int(input())\n",
    "if(student_marks >= 80):\n",
    "    print(\"Outsanding\")\n",
    "else:\n",
    "    print(\"Not outsanding\")"
   ]
  },
  {
   "cell_type": "markdown",
   "id": "ded856af",
   "metadata": {},
   "source": [
    "Iteration Statements digunakan untuk mengulangi task beberapa kali"
   ]
  },
  {
   "cell_type": "code",
   "execution_count": null,
   "id": "c2be9507",
   "metadata": {},
   "outputs": [],
   "source": [
    "Syntax untuk loopingan For:\n",
    "\n",
    "For loop_variable in sequence:\n",
    "    statement(s) yang dieksekusi dalam loopingan for"
   ]
  },
  {
   "cell_type": "code",
   "execution_count": 25,
   "id": "c59a9d1d",
   "metadata": {},
   "outputs": [
    {
     "name": "stdout",
     "output_type": "stream",
     "text": [
      "Probability\n",
      "Statistics\n",
      "Machine Learning\n",
      "Data Science\n",
      "Arificial Intelligence\n"
     ]
    }
   ],
   "source": [
    "subject = [\"Probability\", \"Statistics\", \"Machine Learning\", \"Data Science\", \"Arificial Intelligence\"]\n",
    "for k in subject:\n",
    "    print(k)"
   ]
  },
  {
   "cell_type": "code",
   "execution_count": 26,
   "id": "13eecd8f",
   "metadata": {},
   "outputs": [
    {
     "name": "stdout",
     "output_type": "stream",
     "text": [
      "0\n",
      "1\n",
      "2\n",
      "3\n",
      "4\n"
     ]
    }
   ],
   "source": [
    "for k in range(5):\n",
    "    print(k)"
   ]
  },
  {
   "cell_type": "code",
   "execution_count": 27,
   "id": "9f7748de",
   "metadata": {},
   "outputs": [
    {
     "name": "stdout",
     "output_type": "stream",
     "text": [
      "3\n",
      "6\n",
      "9\n"
     ]
    }
   ],
   "source": [
    "for x in range(3,12,3):\n",
    "    print(x)"
   ]
  },
  {
   "cell_type": "code",
   "execution_count": 28,
   "id": "1bc9a9cb",
   "metadata": {},
   "outputs": [
    {
     "name": "stdout",
     "output_type": "stream",
     "text": [
      "Adam\n",
      "Alice\n",
      "Emma\n"
     ]
    }
   ],
   "source": [
    "students = [\"Adam\", \"Alice\", \"Bob\", \"Emma\", \"Julia\"]\n",
    "for k in students:\n",
    "    if k == \"Bob\":\n",
    "        continue\n",
    "    print(k)\n",
    "    if k == \"Emma\":\n",
    "        break"
   ]
  },
  {
   "cell_type": "code",
   "execution_count": null,
   "id": "0d617e50",
   "metadata": {},
   "outputs": [],
   "source": [
    "Syntax untuk loopingan While:\n",
    "\n",
    "While (condition):\n",
    "    statement(s) yang dieksekusi dalam loopingan while"
   ]
  },
  {
   "cell_type": "code",
   "execution_count": 29,
   "id": "4d751f80",
   "metadata": {},
   "outputs": [
    {
     "name": "stdout",
     "output_type": "stream",
     "text": [
      "Input an Integer=5\n",
      "j =  1 sum = 1\n",
      "j =  2 sum = 3\n",
      "j =  3 sum = 6\n",
      "j =  4 sum = 10\n",
      "j =  5 sum = 15\n"
     ]
    }
   ],
   "source": [
    "n = int(input(\"Input an Integer=\"))\n",
    "#inisialisasi variabel sum dan j (counter)\n",
    "sum = 0\n",
    "j = 1\n",
    "while j <=n:\n",
    "    sum = sum + j\n",
    "    print(\"j = \",j,\"sum =\",sum)\n",
    "    j =j+1"
   ]
  },
  {
   "cell_type": "markdown",
   "id": "7d7c5b6d",
   "metadata": {},
   "source": [
    "# Nested Loop"
   ]
  },
  {
   "cell_type": "code",
   "execution_count": 30,
   "id": "4d3fe289",
   "metadata": {},
   "outputs": [
    {
     "name": "stdout",
     "output_type": "stream",
     "text": [
      "heavy chair\n",
      "heavy table\n",
      "heavy computer\n",
      "wooden chair\n",
      "wooden table\n",
      "wooden computer\n",
      "fast chair\n",
      "fast table\n",
      "fast computer\n"
     ]
    }
   ],
   "source": [
    "atribut = [\"heavy\",\"wooden\",\"fast\"]\n",
    "objek = [\"chair\",\"table\",\"computer\"]\n",
    "for j in atribut:\n",
    "    for k in objek:\n",
    "        print(j,k)"
   ]
  },
  {
   "cell_type": "markdown",
   "id": "6679d868",
   "metadata": {},
   "source": [
    "# Functions in Python"
   ]
  },
  {
   "cell_type": "markdown",
   "id": "a6e92973",
   "metadata": {},
   "source": [
    "Fungsi didefinisikan sebagai bagian dari kode yang digunakan untuk melakukan tugas tertentu"
   ]
  },
  {
   "cell_type": "code",
   "execution_count": 31,
   "id": "a2994a4f",
   "metadata": {},
   "outputs": [
    {
     "name": "stdout",
     "output_type": "stream",
     "text": [
      "This is a test function\n"
     ]
    }
   ],
   "source": [
    "def my_function1():\n",
    "    print(\"This is a test function\")\n",
    "    \n",
    "my_function1()"
   ]
  },
  {
   "cell_type": "code",
   "execution_count": 32,
   "id": "b63af492",
   "metadata": {},
   "outputs": [
    {
     "name": "stdout",
     "output_type": "stream",
     "text": [
      "This function prints its input that is computer\n",
      "This function prints its input that is table\n",
      "This function prints its input that is chair\n"
     ]
    }
   ],
   "source": [
    "def my_function2(str_ln):\n",
    "    print(\"This function prints its input that is \"+str_ln)\n",
    "    \n",
    "my_function2(\"computer\")\n",
    "my_function2(\"table\")\n",
    "my_function2(\"chair\")"
   ]
  },
  {
   "cell_type": "code",
   "execution_count": 33,
   "id": "e3d7cbf5",
   "metadata": {},
   "outputs": [
    {
     "name": "stdout",
     "output_type": "stream",
     "text": [
      "Mangga is my favorite fruit.\n"
     ]
    }
   ],
   "source": [
    "def my_function3(*myfruits):\n",
    "    print(myfruits[0],\"is my favorite fruit.\")\n",
    "my_function3(\"Mangga\", \"Apple\", \"Orange\")"
   ]
  },
  {
   "cell_type": "code",
   "execution_count": 34,
   "id": "f2fbb232",
   "metadata": {},
   "outputs": [],
   "source": [
    "def mult_by_10(k):\n",
    "    return 10*k"
   ]
  },
  {
   "cell_type": "code",
   "execution_count": 35,
   "id": "f353a019",
   "metadata": {},
   "outputs": [
    {
     "name": "stdout",
     "output_type": "stream",
     "text": [
      "hasilnya adalah 20\n"
     ]
    }
   ],
   "source": [
    "print(\"hasilnya adalah\",mult_by_10(2))"
   ]
  },
  {
   "cell_type": "markdown",
   "id": "76612b24",
   "metadata": {},
   "source": [
    "# Struktur Data"
   ]
  },
  {
   "cell_type": "code",
   "execution_count": null,
   "id": "e1be7838",
   "metadata": {},
   "outputs": [],
   "source": [
    "List        = Fleksibel, Mutable (Mengakses dan memotong, \n",
    "              mengganti, menjumlah, menambah, menghapus, sort dan \n",
    "              reverse, mencopy) dan ordered. Ditandai dengan tanda \n",
    "              kurung []\n",
    "Tuple       = Fleksibel, immutable, dan ordered. Ditandai dengan \n",
    "              tanda kurung ()\n",
    "Set         = Fleksibel. Tidak memiliki koordinat/indeks, tidak dapat\n",
    "              memiliki lebih dari satu anggota dengan nilai yang sama\n",
    "              dan unordered. Ditandai dengan tanda kurung {}\n",
    "Dictionary  = Fleksibel. Mutable, memiliki koordinat/indeks yang \n",
    "              pengisian double, namun unordered. Ditandai dengan \n",
    "              tanda kurung {}"
   ]
  },
  {
   "cell_type": "markdown",
   "id": "51d2f655",
   "metadata": {},
   "source": [
    "# Struktur Data List"
   ]
  },
  {
   "cell_type": "code",
   "execution_count": 36,
   "id": "7e19732c",
   "metadata": {},
   "outputs": [
    {
     "name": "stdout",
     "output_type": "stream",
     "text": [
      "['backpack', 'laptop', 'ballpoint', 'sunglasses']\n"
     ]
    }
   ],
   "source": [
    "item_list =[\"backpack\", \"laptop\", \"ballpoint\", \"sunglasses\"]\n",
    "print(item_list)"
   ]
  },
  {
   "cell_type": "markdown",
   "id": "4b1caa79",
   "metadata": {},
   "source": [
    "Mengakses Elemen dari List"
   ]
  },
  {
   "cell_type": "code",
   "execution_count": 37,
   "id": "945508f5",
   "metadata": {},
   "outputs": [
    {
     "name": "stdout",
     "output_type": "stream",
     "text": [
      "ballpoint\n",
      "laptop\n",
      "['laptop', 'ballpoint']\n"
     ]
    }
   ],
   "source": [
    "print(item_list[2])\n",
    "print(item_list[-3])\n",
    "print(item_list[1:3])"
   ]
  },
  {
   "cell_type": "markdown",
   "id": "9964c7b3",
   "metadata": {},
   "source": [
    "Mengganti Elemen dari List"
   ]
  },
  {
   "cell_type": "code",
   "execution_count": 38,
   "id": "c079550b",
   "metadata": {},
   "outputs": [
    {
     "name": "stdout",
     "output_type": "stream",
     "text": [
      "['backpack', 'computer', 'ballpoint', 'sunglasses']\n"
     ]
    }
   ],
   "source": [
    "item_list[1] = \"computer\"\n",
    "print(item_list)"
   ]
  },
  {
   "cell_type": "markdown",
   "id": "20f3bb8a",
   "metadata": {},
   "source": [
    "Menjumlahkan Elemen dari List"
   ]
  },
  {
   "cell_type": "code",
   "execution_count": 39,
   "id": "b21591aa",
   "metadata": {},
   "outputs": [
    {
     "data": {
      "text/plain": [
       "4"
      ]
     },
     "execution_count": 39,
     "metadata": {},
     "output_type": "execute_result"
    }
   ],
   "source": [
    "item_list =[\"backpack\", \"laptop\", \"ballpoint\", \"sunglasses\"]\n",
    "len(item_list)"
   ]
  },
  {
   "cell_type": "markdown",
   "id": "08de62fa",
   "metadata": {},
   "source": [
    "Menambahkan Elemen dari List"
   ]
  },
  {
   "cell_type": "code",
   "execution_count": 40,
   "id": "cd9f37ca",
   "metadata": {},
   "outputs": [
    {
     "data": {
      "text/plain": [
       "['backpack', 'laptop', 'ballpoint', 'sunglasses', 'handphone']"
      ]
     },
     "execution_count": 40,
     "metadata": {},
     "output_type": "execute_result"
    }
   ],
   "source": [
    "item_list =[\"backpack\", \"laptop\", \"ballpoint\", \"sunglasses\"]\n",
    "item_list.append(\"handphone\")\n",
    "item_list"
   ]
  },
  {
   "cell_type": "markdown",
   "id": "f315dc91",
   "metadata": {},
   "source": [
    "Menghapus Elemen dari List"
   ]
  },
  {
   "cell_type": "code",
   "execution_count": 41,
   "id": "b1391d98",
   "metadata": {},
   "outputs": [
    {
     "name": "stdout",
     "output_type": "stream",
     "text": [
      "['backpack', 'ballpoint', 'sunglasses']\n"
     ]
    }
   ],
   "source": [
    "item_list =[\"backpack\", \"laptop\", \"ballpoint\", \"sunglasses\"]\n",
    "item_yang_akan_dihapus = item_list.remove(\"laptop\")\n",
    "print(item_list)"
   ]
  },
  {
   "cell_type": "code",
   "execution_count": 42,
   "id": "02705a9d",
   "metadata": {},
   "outputs": [
    {
     "name": "stdout",
     "output_type": "stream",
     "text": [
      "['backpack', 'ballpoint', 'laptop', 'sunglasses']\n",
      "['sunglasses', 'laptop', 'ballpoint', 'backpack']\n"
     ]
    }
   ],
   "source": [
    "item_list =[\"backpack\", \"laptop\", \"ballpoint\", \"sunglasses\"]\n",
    "item_list.sort()\n",
    "print(item_list)\n",
    "item_list.reverse()\n",
    "print(item_list)"
   ]
  },
  {
   "cell_type": "code",
   "execution_count": 43,
   "id": "ef0079b5",
   "metadata": {},
   "outputs": [
    {
     "name": "stdout",
     "output_type": "stream",
     "text": [
      "['backpack', 'laptop', 'ballpoint', 'sunglasses']\n"
     ]
    }
   ],
   "source": [
    "item_list =[\"backpack\", \"laptop\", \"ballpoint\", \"sunglasses\"]\n",
    "item_list.copy()\n",
    "print(item_list)"
   ]
  },
  {
   "cell_type": "markdown",
   "id": "fa81cd5f",
   "metadata": {},
   "source": [
    "# Struktur Data Tuple"
   ]
  },
  {
   "cell_type": "markdown",
   "id": "67acb324",
   "metadata": {},
   "source": [
    "Mengakses Elemen dari Tuple"
   ]
  },
  {
   "cell_type": "code",
   "execution_count": 44,
   "id": "c8ea147f",
   "metadata": {},
   "outputs": [
    {
     "name": "stdout",
     "output_type": "stream",
     "text": [
      "('Python', 'For', 'Statistics')\n"
     ]
    }
   ],
   "source": [
    "py_stat = ('Python', 'For', 'Statistics')\n",
    "print(py_stat)"
   ]
  },
  {
   "cell_type": "markdown",
   "id": "b0bf6dce",
   "metadata": {},
   "source": [
    "Menghitung seberapa banyak suatu item muncul pada Tuple"
   ]
  },
  {
   "cell_type": "code",
   "execution_count": 45,
   "id": "04268d46",
   "metadata": {},
   "outputs": [
    {
     "name": "stdout",
     "output_type": "stream",
     "text": [
      "0\n",
      "1\n"
     ]
    }
   ],
   "source": [
    "py_stat2 = ('python', 'has support for', 'Statistics')\n",
    "print(py_stat2.count('stat'))\n",
    "print(py_stat2.count('Statistics'))"
   ]
  },
  {
   "cell_type": "markdown",
   "id": "c0003eaa",
   "metadata": {},
   "source": [
    "Mengetahui apakah suatu item merupakan bagian pada Tuple"
   ]
  },
  {
   "cell_type": "code",
   "execution_count": 46,
   "id": "094cc593",
   "metadata": {},
   "outputs": [
    {
     "name": "stdout",
     "output_type": "stream",
     "text": [
      "0\n",
      "2\n"
     ]
    },
    {
     "ename": "ValueError",
     "evalue": "tuple.index(x): x not in tuple",
     "output_type": "error",
     "traceback": [
      "\u001b[1;31m---------------------------------------------------------------------------\u001b[0m",
      "\u001b[1;31mValueError\u001b[0m                                Traceback (most recent call last)",
      "Input \u001b[1;32mIn [46]\u001b[0m, in \u001b[0;36m<cell line: 3>\u001b[1;34m()\u001b[0m\n\u001b[0;32m      1\u001b[0m \u001b[38;5;28mprint\u001b[39m(py_stat2\u001b[38;5;241m.\u001b[39mindex(\u001b[38;5;124m'\u001b[39m\u001b[38;5;124mpython\u001b[39m\u001b[38;5;124m'\u001b[39m))\n\u001b[0;32m      2\u001b[0m \u001b[38;5;28mprint\u001b[39m(py_stat2\u001b[38;5;241m.\u001b[39mindex(\u001b[38;5;124m'\u001b[39m\u001b[38;5;124mStatistics\u001b[39m\u001b[38;5;124m'\u001b[39m))\n\u001b[1;32m----> 3\u001b[0m \u001b[38;5;28mprint\u001b[39m(\u001b[43mpy_stat2\u001b[49m\u001b[38;5;241;43m.\u001b[39;49m\u001b[43mindex\u001b[49m\u001b[43m(\u001b[49m\u001b[38;5;124;43m'\u001b[39;49m\u001b[38;5;124;43mprobability\u001b[39;49m\u001b[38;5;124;43m'\u001b[39;49m\u001b[43m)\u001b[49m)\n",
      "\u001b[1;31mValueError\u001b[0m: tuple.index(x): x not in tuple"
     ]
    }
   ],
   "source": [
    "print(py_stat2.index('python'))\n",
    "print(py_stat2.index('Statistics'))\n",
    "print(py_stat2.index('probability'))"
   ]
  },
  {
   "cell_type": "markdown",
   "id": "bc129b81",
   "metadata": {},
   "source": [
    "# Struktur Data Sets"
   ]
  },
  {
   "cell_type": "markdown",
   "id": "6c4d2c76",
   "metadata": {},
   "source": [
    "Menjalankan elemen dengan loop for"
   ]
  },
  {
   "cell_type": "code",
   "execution_count": 47,
   "id": "a8a10f60",
   "metadata": {},
   "outputs": [
    {
     "name": "stdout",
     "output_type": "stream",
     "text": [
      "['cat', 'dog', 'tiger', 'fox']\n"
     ]
    }
   ],
   "source": [
    "my_animals = [\"cat\", \"dog\", \"tiger\", \"fox\"]\n",
    "print(my_animals)"
   ]
  },
  {
   "cell_type": "markdown",
   "id": "0e7e14fc",
   "metadata": {},
   "source": [
    "Mengetahui apakah suatu item merupakan bagian Sets"
   ]
  },
  {
   "cell_type": "code",
   "execution_count": 48,
   "id": "10bc7aee",
   "metadata": {},
   "outputs": [
    {
     "name": "stdout",
     "output_type": "stream",
     "text": [
      "cat\n",
      "dog\n",
      "tiger\n",
      "fox\n"
     ]
    }
   ],
   "source": [
    "my_animals = [\"cat\", \"dog\", \"tiger\", \"fox\"]\n",
    "for x in my_animals:\n",
    "    print(x)"
   ]
  },
  {
   "cell_type": "markdown",
   "id": "35e62aeb",
   "metadata": {},
   "source": [
    "Mengetahui apakah suatu item merupakan bagian Sets"
   ]
  },
  {
   "cell_type": "code",
   "execution_count": 49,
   "id": "e84bd715",
   "metadata": {},
   "outputs": [
    {
     "name": "stdout",
     "output_type": "stream",
     "text": [
      "True\n",
      "False\n"
     ]
    }
   ],
   "source": [
    "print(\"tiger\" in my_animals)\n",
    "print(\"lion\" in my_animals)"
   ]
  },
  {
   "cell_type": "markdown",
   "id": "9f614c5b",
   "metadata": {},
   "source": [
    "Bagaimanakah syntax untuk menambahkan satu dan lebih anggota?"
   ]
  },
  {
   "cell_type": "code",
   "execution_count": 50,
   "id": "3a5dedaf",
   "metadata": {},
   "outputs": [
    {
     "name": "stdout",
     "output_type": "stream",
     "text": [
      "{'fox', 'cat', 'fish', 'tiger', 'monkey', 'lion', 'dog'}\n"
     ]
    }
   ],
   "source": [
    "my_animals = {\"cat\", \"dog\", \"tiger\", \"fox\"}\n",
    "\n",
    "# nambah satu dengan memakai add \n",
    "my_animals.add(\"monkey\")\n",
    "\n",
    "# nambah lebih dari satu dengan memakai update dalam list\n",
    "my_animals.update([\"fish\", \"lion\"])\n",
    "\n",
    "print(my_animals)"
   ]
  },
  {
   "cell_type": "markdown",
   "id": "dc51bdd1",
   "metadata": {},
   "source": [
    "Bagaimanakah syntax untuk menghapus elemen anggota?"
   ]
  },
  {
   "cell_type": "code",
   "execution_count": 51,
   "id": "7e87466e",
   "metadata": {},
   "outputs": [
    {
     "name": "stdout",
     "output_type": "stream",
     "text": [
      "{'cat', 'tiger', 'fox'}\n",
      "{'tiger', 'fox'}\n"
     ]
    }
   ],
   "source": [
    "my_animals = {\"cat\", \"dog\", \"tiger\", \"fox\"}\n",
    "\n",
    "# menggunakan discard\n",
    "my_animals.discard(\"dog\")\n",
    "print(my_animals)\n",
    "\n",
    "# menggunakan remove\n",
    "my_animals.remove(\"cat\")\n",
    "print(my_animals)"
   ]
  },
  {
   "cell_type": "markdown",
   "id": "7f579f9d",
   "metadata": {},
   "source": [
    "Bagaimanakah syntax untuk menggabungkan 2 atau lebih sets?"
   ]
  },
  {
   "cell_type": "code",
   "execution_count": 52,
   "id": "bf355e15",
   "metadata": {},
   "outputs": [
    {
     "name": "stdout",
     "output_type": "stream",
     "text": [
      "{'fox', 'monkey', 'cat', 'fish', 'lion', 'dog', 'tiger'}\n",
      "{'fox', 'monkey', 'cat', 'fish', 'lion', 'dog', 'tiger'}\n"
     ]
    }
   ],
   "source": [
    "my_animals1 = {\"cat\", \"dog\", \"tiger\", \"fox\"}\n",
    "my_animals2 = {\"monkey\", \"fish\", \"lion\"}\n",
    "\n",
    "print(my_animals1|my_animals2)\n",
    "print(my_animals1.union(my_animals2))"
   ]
  },
  {
   "cell_type": "markdown",
   "id": "da8d6bf1",
   "metadata": {},
   "source": [
    "# Struktur Data Dictionary "
   ]
  },
  {
   "cell_type": "code",
   "execution_count": 53,
   "id": "6ef5c7ba",
   "metadata": {},
   "outputs": [
    {
     "name": "stdout",
     "output_type": "stream",
     "text": [
      "{'name': 'Python', 'purpose': 'statistics', 'year': 2020}\n"
     ]
    }
   ],
   "source": [
    "py_stat_dict = {\"name\" : \"Python\", \n",
    "                \"purpose\" : \"statistics\", \n",
    "                \"year\" : 2020}\n",
    "print(py_stat_dict)"
   ]
  },
  {
   "cell_type": "markdown",
   "id": "80013785",
   "metadata": {},
   "source": [
    "Mendapatkan kata kunci dari elemen"
   ]
  },
  {
   "cell_type": "code",
   "execution_count": 54,
   "id": "182f2955",
   "metadata": {},
   "outputs": [
    {
     "name": "stdout",
     "output_type": "stream",
     "text": [
      "Python\n",
      "statistics\n"
     ]
    }
   ],
   "source": [
    "print(py_stat_dict[\"name\"])\n",
    "print(py_stat_dict.get(\"purpose\"))"
   ]
  },
  {
   "cell_type": "code",
   "execution_count": null,
   "id": "68a46b05",
   "metadata": {},
   "outputs": [],
   "source": []
  }
 ],
 "metadata": {
  "kernelspec": {
   "display_name": "Python 3 (ipykernel)",
   "language": "python",
   "name": "python3"
  },
  "language_info": {
   "codemirror_mode": {
    "name": "ipython",
    "version": 3
   },
   "file_extension": ".py",
   "mimetype": "text/x-python",
   "name": "python",
   "nbconvert_exporter": "python",
   "pygments_lexer": "ipython3",
   "version": "3.9.12"
  }
 },
 "nbformat": 4,
 "nbformat_minor": 5
}
