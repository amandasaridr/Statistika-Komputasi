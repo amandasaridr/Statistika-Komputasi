{
 "cells": [
  {
   "cell_type": "markdown",
   "id": "8e80a07e",
   "metadata": {},
   "source": [
    "# Amandasari Dinda Rabbani (22083010093) STATKOM Kelas C"
   ]
  },
  {
   "cell_type": "markdown",
   "id": "1f1d1f14",
   "metadata": {},
   "source": [
    "Buatlah fungsi python pada algoritma varians bootsrao dan selang kepercayaan-nya 90%\n",
    "Gunakan simulasi data sampel random sebanyak 100 pengamatan dengan rentang nilai 10-15 dan iterasi bootsrap adalah 1000"
   ]
  },
  {
   "cell_type": "code",
   "execution_count": 1,
   "id": "fc03a773",
   "metadata": {},
   "outputs": [
    {
     "name": "stdout",
     "output_type": "stream",
     "text": [
      "                           ~ Data Sampel Random ~\n",
      " [13 11 10 11 14 10 14 10 10 10 10 12 14 10 12 11 13 10 14 13 10 11 14 12\n",
      " 11 13 10 12 11 11 14 12 13 14 14 10 13 12 11 12 14 10 12 11 12 12 10 14\n",
      " 14 13 10 13 11 11 11 13 13 11 13 12 14 10 11 10 10 12 11 12 11 12 13 12\n",
      " 10 10 12 10 14 10 14 12 10 14 14 12 12 12 10 10 11 14 10 14 12 11 11 10\n",
      " 12 12 10 14]\n",
      "\n",
      "Hasil dari Varians bootstrap dengan data sampel diatas: 2.1696875\n",
      "\n",
      "Hasil dari Selang kepercayaan-nya (90%): (0.20500000000000052, 0.24631999999999898)\n"
     ]
    }
   ],
   "source": [
    "import numpy as np\n",
    "\n",
    "def varians_bootstrap(data, n_bootstrap=100, alpha=0.1):\n",
    "    # Menghitung varians data asli\n",
    "    var_data = np.var(data)\n",
    "    \n",
    "    # Melakukan bootstrap\n",
    "    vars_bootstrap = []\n",
    "    for i in range(n_bootstrap):\n",
    "        sampel_bootstrap = np.random.choice(data, size=len(data), replace=True)\n",
    "        var_bootstrap = np.var(sampel_bootstrap)\n",
    "        vars_bootstrap.append(var_bootstrap)\n",
    "    \n",
    "    # Menghitung selang kepercayaan-nya\n",
    "    alpha_level = alpha / 2\n",
    "    lower_percentile = np.percentile(vars_bootstrap, alpha_level * 100)\n",
    "    upper_percentile = np.percentile(vars_bootstrap, (1 - alpha_level) * 100)\n",
    "    \n",
    "    # Menghitung selisih antara selang kepercayaan dan varians data asli\n",
    "    lower_diff = var_data - lower_percentile\n",
    "    upper_diff = upper_percentile - var_data\n",
    "    \n",
    "    # Mengembalikan tuple berisi nilai varians bootstrap dan selang kepercayaan-nya\n",
    "    return np.mean(vars_bootstrap), (lower_diff, upper_diff)\n",
    "\n",
    "# Membuat data sampel acak\n",
    "data = np.random.randint(low=10, high=15, size=100)\n",
    "print(\"                           ~ Data Sampel Random ~\\n\", data)\n",
    "# Memanggil fungsi bootstrap_variance\n",
    "bootstrap_var, confidence_interval = varians_bootstrap(data, n_bootstrap=8, alpha=0.1)\n",
    "\n",
    "# Menampilkan hasil\n",
    "print(\"\\nHasil dari Varians bootstrap dengan data sampel diatas:\", bootstrap_var)\n",
    "print(\"\\nHasil dari Selang kepercayaan-nya (90%):\", confidence_interval)"
   ]
  },
  {
   "cell_type": "markdown",
   "id": "78f9ede6",
   "metadata": {},
   "source": [
    "Buatlah fungsi python pada algoritma median jacknife dan selang kepercayaan-nya 90%\n",
    "Gunakan simulasi data sampel random sebanyak 100 pengamatan dengan rentang nilai 10-20"
   ]
  },
  {
   "cell_type": "code",
   "execution_count": 2,
   "id": "8982167a",
   "metadata": {},
   "outputs": [
    {
     "name": "stdout",
     "output_type": "stream",
     "text": [
      "                      ~ DATAKU DARI SAMPEL ACAK ~\n",
      " [11 12 11 17 13 17 12 12 17 18 10 17 17 15 10 18 15 12 14 13 19 12 19 16\n",
      " 17 19 11 13 12 14 13 14 14 19 17 12 11 11 12 14 15 14 14 10 16 18 12 15\n",
      " 17 12 15 10 14 11 17 13 13 19 14 11 10 11 14 15 19 17 16 19 19 11 17 14\n",
      " 19 17 13 17 12 16 18 19 14 15 19 15 17 18 16 10 19 13 18 16 18 19 11 11\n",
      " 13 19 13 15]\n",
      "\n",
      "Hasil dari nilai tengah jacknife adalah 14.5\n",
      "\n",
      "Hasil dari jacknife 90% dengan batas bawah adalah -1.5401924735958197, dan batas atas adalah 30.54019247359582\n"
     ]
    }
   ],
   "source": [
    "import numpy as np\n",
    "\n",
    "#membuat data sampel acak\n",
    "dataku = np.random.randint(low=10, high=20, size=100)\n",
    "#mengindentifikasi inisial fungsi jacknife dan membuat tempat untuk nilai tengah dari jacknife\n",
    "def nilai_tengah_dari_jacknife(dataku):\n",
    "    panjang_nilai_tengah, zy = [], len(dataku)\n",
    "    index = np.arange(zy)\n",
    "    #melakukan iterasi nilai tengah jacknife\n",
    "    for z in range(zy):\n",
    "        sampel_jacknife = dataku[index != z]\n",
    "        panjang_nilai_tengah.append(np.median(sampel_jacknife))\n",
    "    panjang_nilai_tengah = np.array(panjang_nilai_tengah)\n",
    "    #menghitung nilai tengah jacknife\n",
    "    panjang_nilai_tengah_jacknife = np.median(panjang_nilai_tengah)\n",
    "    print(\"\\nHasil dari nilai tengah jacknife adalah\", panjang_nilai_tengah_jacknife)\n",
    "    #menghitung batas bawah dan batas atas\n",
    "    varians_jacknife = (zy-1)*np.var(panjang_nilai_tengah)\n",
    "    batas_bawah = panjang_nilai_tengah_jacknife - 1.96 * 1.645 *  np.sqrt(varians_jacknife)\n",
    "    batas_atas = panjang_nilai_tengah_jacknife + 1.96 * 1.645 * np.sqrt(varians_jacknife)\n",
    "    print(\"\\nHasil dari jacknife 90% dengan batas bawah adalah {}, dan batas atas adalah {}\".format(batas_bawah, batas_atas))\n",
    "    return\n",
    "print(\"                      ~ DATAKU DARI SAMPEL ACAK ~\\n\", dataku)\n",
    "nilai_tengah_dari_jacknife(dataku)"
   ]
  },
  {
   "cell_type": "code",
   "execution_count": null,
   "id": "3a3b9562",
   "metadata": {},
   "outputs": [],
   "source": []
  }
 ],
 "metadata": {
  "kernelspec": {
   "display_name": "Python 3 (ipykernel)",
   "language": "python",
   "name": "python3"
  },
  "language_info": {
   "codemirror_mode": {
    "name": "ipython",
    "version": 3
   },
   "file_extension": ".py",
   "mimetype": "text/x-python",
   "name": "python",
   "nbconvert_exporter": "python",
   "pygments_lexer": "ipython3",
   "version": "3.9.12"
  }
 },
 "nbformat": 4,
 "nbformat_minor": 5
}
