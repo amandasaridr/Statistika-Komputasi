{
 "cells": [
  {
   "cell_type": "markdown",
   "id": "dc9de550",
   "metadata": {},
   "source": [
    "Soal 1 Banyaknya pasien yang terlihat di UGD rumah sakit dalam kurun waktu 5 hari adalah 153, 147, 156, dan 153. Tentukan mean absolut deviationnya"
   ]
  },
  {
   "cell_type": "code",
   "execution_count": 1,
   "id": "d5392140",
   "metadata": {},
   "outputs": [
    {
     "name": "stdout",
     "output_type": "stream",
     "text": [
      "Hasil dari mean absolute deviation dari data pasien tersebut adalah 2.4\n",
      "\n"
     ]
    }
   ],
   "source": [
    "pasien = [153,147,151,156,153]\n",
    "def mean_absolute_deviation(pasien):\n",
    "    jumlah_pasien = len(pasien)\n",
    "    mean = sum(pasien)/jumlah_pasien\n",
    "    deviasi = [abs(a-mean) for a in pasien]\n",
    "    mean_absolut = sum(deviasi)/jumlah_pasien\n",
    "    \n",
    "    return print(\"Hasil dari mean absolute deviation dari data pasien tersebut adalah\", mean_absolut)\n",
    "mean_absolute_deviation(pasien)\n",
    "print()"
   ]
  },
  {
   "cell_type": "markdown",
   "id": "a0542367",
   "metadata": {},
   "source": [
    "Soal 2 Tentukan Coefficent of Varians penjualan mingguan suatu produk, dimana selama 12 minggu penjualan jumlah produk terjual perminggunya antara lain 150, 200, 125, 310, 330, 250, 225, 120, 150, 200, 300, 210"
   ]
  },
  {
   "cell_type": "code",
   "execution_count": 2,
   "id": "c99bd494",
   "metadata": {},
   "outputs": [
    {
     "name": "stdout",
     "output_type": "stream",
     "text": [
      "Hasil dari coefficient of variation dari data hasil penjualan produk adalah 33.56488641704886\n"
     ]
    }
   ],
   "source": [
    "hasil_penjualan_produk = [150, 200, 125, 310, 330, 250, 225, 120, 150, 200, 300, 210]\n",
    "\n",
    "def coefficient_of_variation(hasil_penjualan_produk):\n",
    "    jumlah_produk = len(hasil_penjualan_produk)\n",
    "    rata_rata = sum(hasil_penjualan_produk)/jumlah_produk\n",
    "    stndrt_dvs = (sum([(b-rata_rata)**2 for b in hasil_penjualan_produk])/(jumlah_produk-1))**0.5\n",
    "    cov = (stndrt_dvs/rata_rata)*100\n",
    "    return cov\n",
    "hasil_penjualan_produk = [150, 200, 125, 310, 330, 250, 225, 120, 150, 200, 300, 210]\n",
    "cv = coefficient_of_variation(hasil_penjualan_produk)\n",
    "print(\"Hasil dari coefficient of variation dari data hasil penjualan produk adalah\", cv)"
   ]
  },
  {
   "cell_type": "markdown",
   "id": "5efcba01",
   "metadata": {},
   "source": [
    "Soal 3 Sampel acak sepatu bot yang dikenakan oleh 40 tentara tempur didaerah gurun menunjukkan rata-rata umur 1,08 tahun dengan standart deviasi 0,05. Dibawah kondisi standart, sepatu bot diketahui memiliki umur rata-rata 1,28 tahun. Apakah ada alasan untuk menegaskan pada tingkat signifikansi 0,05 bahwa penggunaan di gurun menyebabkan umur rata-rata sepatu bot tersebut berkurang?"
   ]
  },
  {
   "cell_type": "code",
   "execution_count": 4,
   "id": "703840c3",
   "metadata": {},
   "outputs": [
    {
     "data": {
      "text/plain": [
       "{'z_score': -25.29822128134703,\n",
       " 'p_value': 1.6707440193208486e-141,\n",
       " 'nilai_kritis': -1.6448536269514729,\n",
       " 'keputusan': 'Tolak H0'}"
      ]
     },
     "execution_count": 4,
     "metadata": {},
     "output_type": "execute_result"
    }
   ],
   "source": [
    "import math\n",
    "from scipy.stats import norm\n",
    "\n",
    "mean_sampel=1.08\n",
    "mean_populasi=1.28\n",
    "std_sampel=0.05\n",
    "n=40\n",
    "\n",
    "def func_uji_z_1_mean(mean_sampel,mean_populasi,std_sampel,n,alpha):\n",
    "    z_score=(mean_sampel-mean_populasi)/(std_sampel/math.sqrt(n))\n",
    "    p_value=norm.cdf(z_score)\n",
    "    nilai_kritis=norm.ppf(alpha)\n",
    "    \n",
    "    if z_score<nilai_kritis:\n",
    "        keputusan=\"Tolak H0\"\n",
    "    else:\n",
    "        keputusan=\"Gagal Tolak H0\"\n",
    "    return{\"z_score\":z_score,\"p_value\":p_value,\"nilai_kritis\":nilai_kritis,\"keputusan\":keputusan}\n",
    "func_uji_z_1_mean(1.08,1.28,0.05,40,0.05)"
   ]
  },
  {
   "cell_type": "code",
   "execution_count": null,
   "id": "b9db886c",
   "metadata": {},
   "outputs": [],
   "source": []
  }
 ],
 "metadata": {
  "kernelspec": {
   "display_name": "Python 3 (ipykernel)",
   "language": "python",
   "name": "python3"
  },
  "language_info": {
   "codemirror_mode": {
    "name": "ipython",
    "version": 3
   },
   "file_extension": ".py",
   "mimetype": "text/x-python",
   "name": "python",
   "nbconvert_exporter": "python",
   "pygments_lexer": "ipython3",
   "version": "3.9.12"
  }
 },
 "nbformat": 4,
 "nbformat_minor": 5
}
