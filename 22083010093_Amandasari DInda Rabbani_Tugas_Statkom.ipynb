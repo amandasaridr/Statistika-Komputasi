{
 "cells": [
  {
   "cell_type": "markdown",
   "id": "63fedd50",
   "metadata": {},
   "source": [
    "# Amandasari Dinda Rabbani (22083010093) Statkom C "
   ]
  },
  {
   "cell_type": "markdown",
   "id": "b2b87c3f",
   "metadata": {},
   "source": [
    "1. Varians"
   ]
  },
  {
   "cell_type": "code",
   "execution_count": 1,
   "id": "c56da9e9",
   "metadata": {},
   "outputs": [
    {
     "name": "stdout",
     "output_type": "stream",
     "text": [
      "83.4320987654321\n"
     ]
    }
   ],
   "source": [
    "data_tinggi_mahasiswa = (156, 176, 153, 180, 165, 170, 165, 156, 156)\n",
    "def varians(data_tinggi_mahasiswa):\n",
    "    diff = 0\n",
    "    rata2 = sum(data_tinggi_mahasiswa)/len(data_tinggi_mahasiswa)\n",
    "    for v in data_tinggi_mahasiswa:\n",
    "        diff = diff + (v-rata2)**2\n",
    "    return diff/len(data_tinggi_mahasiswa)\n",
    "print(varians(data_tinggi_mahasiswa))"
   ]
  },
  {
   "cell_type": "markdown",
   "id": "7c64b490",
   "metadata": {},
   "source": [
    "2. Standart Deviasi"
   ]
  },
  {
   "cell_type": "code",
   "execution_count": 2,
   "id": "a0716888",
   "metadata": {},
   "outputs": [
    {
     "name": "stdout",
     "output_type": "stream",
     "text": [
      "9.134117295362048\n"
     ]
    }
   ],
   "source": [
    "import math\n",
    "data_tinggi_mahasiswa = (156, 176, 153, 180, 165, 170, 165, 156, 156)\n",
    "def standart_deviasi(data_tinggi_mahasiswa):\n",
    "    vrns = varians(data_tinggi_mahasiswa)\n",
    "    stndrt_dvs= math.sqrt(vrns)\n",
    "    return stndrt_dvs\n",
    "print(standart_deviasi(data_tinggi_mahasiswa))"
   ]
  },
  {
   "cell_type": "code",
   "execution_count": null,
   "id": "9167f991",
   "metadata": {},
   "outputs": [],
   "source": []
  }
 ],
 "metadata": {
  "kernelspec": {
   "display_name": "Python 3 (ipykernel)",
   "language": "python",
   "name": "python3"
  },
  "language_info": {
   "codemirror_mode": {
    "name": "ipython",
    "version": 3
   },
   "file_extension": ".py",
   "mimetype": "text/x-python",
   "name": "python",
   "nbconvert_exporter": "python",
   "pygments_lexer": "ipython3",
   "version": "3.9.12"
  }
 },
 "nbformat": 4,
 "nbformat_minor": 5
}
