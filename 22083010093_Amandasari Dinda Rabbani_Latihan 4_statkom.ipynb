{
 "cells": [
  {
   "cell_type": "markdown",
   "id": "7b25b0a1",
   "metadata": {},
   "source": [
    "Amandasari Dinda Rabbani (22083010093) latihan 4 statkom"
   ]
  },
  {
   "cell_type": "markdown",
   "id": "f272ae08",
   "metadata": {},
   "source": [
    "# Pengujian Mean 1 Populasi - Sampel > 30"
   ]
  },
  {
   "cell_type": "code",
   "execution_count": 1,
   "id": "9bfc46fa",
   "metadata": {},
   "outputs": [
    {
     "name": "stdout",
     "output_type": "stream",
     "text": [
      "Hasil Uji Z adalah 4.0\n"
     ]
    }
   ],
   "source": [
    "import numpy as np\n",
    "mean_sampel=1600\n",
    "mean_populasi=1570\n",
    "std_sampel=150\n",
    "n=400\n",
    "#langkah-langkahnya adalah\n",
    "#1 Menghitung std/sqrt(n)\n",
    "std=std_sampel/np.sqrt(n)\n",
    "#1 Mmenghitung uji statistik z\n",
    "uji_z_1=(mean_sampel-mean_populasi)/std\n",
    "print('Hasil Uji Z adalah',uji_z_1)"
   ]
  },
  {
   "cell_type": "code",
   "execution_count": 2,
   "id": "d9672874",
   "metadata": {},
   "outputs": [
    {
     "name": "stdout",
     "output_type": "stream",
     "text": [
      "1.959963984540054\n",
      "2.5758293035489004\n",
      "2.3263478740408408\n"
     ]
    }
   ],
   "source": [
    "import scipy.stats as st\n",
    "z_tebel_dua_sisi = st.norm.ppf(1-0.025)\n",
    "z_tebel_satu_sisi = st.norm.ppf(1-0.005)\n",
    "z_tebel_tiga_sisi = st.norm.ppf(1-0.01)\n",
    "\n",
    "print(z_tebel_dua_sisi)\n",
    "print(z_tebel_satu_sisi)\n",
    "print(z_tebel_tiga_sisi)"
   ]
  },
  {
   "cell_type": "code",
   "execution_count": 3,
   "id": "242d4ca5",
   "metadata": {},
   "outputs": [
    {
     "name": "stdout",
     "output_type": "stream",
     "text": [
      "Sehingga H0 ditolak rata-rata populasi sekarang > rata-rata populasi sebelumnya\n"
     ]
    }
   ],
   "source": [
    "if abs(uji_z_1) > z_tebel_tiga_sisi:\n",
    "    print(\"Sehingga H0 ditolak rata-rata populasi sekarang > rata-rata populasi sebelumnya\")\n",
    "else:\n",
    "    print(\"Sehingga H0 gagal ditolak artinya rata-rata populasi sekarang < rata-rata populasi sebelumnya\")\n"
   ]
  },
  {
   "cell_type": "code",
   "execution_count": 4,
   "id": "f1600ef7",
   "metadata": {},
   "outputs": [],
   "source": [
    "def func_uji_z_1_mean(mean_sample,mean_populasi,std_sample,n ,alpha):\n",
    "    #menghitung std\n",
    "    std = std_sample/np.sqrt(n)\n",
    "    \n",
    "    #menghitung uji statistik z\n",
    "    uji_z_1 = (mean_sample-mean_populasi)/std\n",
    "    print(\"hasil uji z adalah\",uji_z_1)\n",
    "    \n",
    "    #z tabel di python\n",
    "    import scipy.stats as st\n",
    "    \n",
    "    # jika dua sisi\n",
    "    z_tabel_dua_sisi = st.norm.ppf(1-alpha)\n",
    "    \n",
    "    #keputusan\n",
    "    if abs(uji_z_1) > z_tabel_dua_sisi:\n",
    "        print(\"sehingga H0 ditolak yang artinya rata-rata populasi sekarang > rata-rata populasi sebelumnya\")\n",
    "    else:\n",
    "        print(\"sehingga H0 gagal ditolak artinya rata-rata populasi sekarang < rata-rata populasi sebelumnya\")\n",
    "    return\n",
    "    \n"
   ]
  },
  {
   "cell_type": "code",
   "execution_count": 5,
   "id": "9d21aa5b",
   "metadata": {},
   "outputs": [
    {
     "name": "stdout",
     "output_type": "stream",
     "text": [
      "hasil uji z adalah 4.0\n",
      "sehingga H0 ditolak yang artinya rata-rata populasi sekarang > rata-rata populasi sebelumnya\n"
     ]
    }
   ],
   "source": [
    "func_uji_z_1_mean(1600,1570,150,400,0.01)"
   ]
  },
  {
   "cell_type": "markdown",
   "id": "250ad5d8",
   "metadata": {},
   "source": [
    "# Menentukan uji statistik"
   ]
  },
  {
   "cell_type": "code",
   "execution_count": 7,
   "id": "c6786438",
   "metadata": {},
   "outputs": [
    {
     "name": "stdout",
     "output_type": "stream",
     "text": [
      "hasil uji adalah -1.2901118419717794\n"
     ]
    }
   ],
   "source": [
    "import numpy as np\n",
    "\n",
    "sampel = [183, 152, 178, 157, 194, 163, 144, 114, 178, 152, 118, 158, 172, 138]\n",
    "\n",
    "#menentukan mean dari data\n",
    "mean_data = np.mean(sampel)\n",
    "\n",
    "#mendefinisikan populasi mean\n",
    "pop_mean = 165\n",
    "\n",
    "#menghitung standar error dari data\n",
    "n = len(sampel)\n",
    "se_data = np.std(sampel)/np.sqrt(n)\n",
    "\n",
    "#menghitung uji statistik t\n",
    "uji_t_1_mean = (mean_data - pop_mean)/se_data\n",
    "print(\"hasil uji adalah\", uji_t_1_mean)\n"
   ]
  },
  {
   "cell_type": "markdown",
   "id": "c4e31359",
   "metadata": {},
   "source": [
    "# Menentukan titik kritis dan memberikan kesimpulan"
   ]
  },
  {
   "cell_type": "code",
   "execution_count": 8,
   "id": "94f631f5",
   "metadata": {},
   "outputs": [
    {
     "name": "stdout",
     "output_type": "stream",
     "text": [
      "titik kritis dua arah pada alpha adalah 2.1603686564610127\n",
      "Ho gagal ditolak artinya rata-rata sample sama dengan rata ratapopulasi\n"
     ]
    }
   ],
   "source": [
    "from scipy import stats\n",
    "\n",
    "alpha = 0.05\n",
    "nilai_q = 1-(alpha/2)\n",
    "t_crit = stats.t.ppf(q=nilai_q, df=n-1)\n",
    "print(\"titik kritis dua arah pada alpha adalah\", t_crit)\n",
    "if abs(uji_t_1_mean) > t_crit:\n",
    "    print(\"Ho ditolak yang artinya rata-rata sample dengan populasi tidak sama\")\n",
    "else:\n",
    "    print(\"Ho gagal ditolak artinya rata-rata sample sama dengan rata ratapopulasi\")\n",
    "    "
   ]
  },
  {
   "cell_type": "code",
   "execution_count": 9,
   "id": "7fc3febc",
   "metadata": {},
   "outputs": [],
   "source": [
    "def func_uji_t_1_mean(Sampel, pop_mean, alpha):\n",
    "\n",
    "  mean_data = np.mean(Sampel)\n",
    "\n",
    "  n = len(Sampel)\n",
    "  se_data = np.std(Sampel)/np.sqrt(n)\n",
    "\n",
    "  uji_t_1_mean = (mean_data-pop_mean)/se_data\n",
    "  print('Hasil uji t adalah', uji_t_1_mean)\n",
    "\n",
    "  nilai_q = 1-(alpha/2)\n",
    "  t_crit = stats.t.ppf(q=nilai_q, df=n-1)\n",
    "  print(\"TItik kritis dua arah pada alpha adalah\",t_crit)\n",
    "  if abs(uji_t_1_mean) > t_crit:\n",
    "    print('H0 ditolak artinya rata-rata sampel dengan populasi tidak sama')\n",
    "  else: \n",
    "    print('H0 gagal ditolak artinya rata-rata sampel sama dengan rata-rata populasi')\n",
    "  \n",
    "  return"
   ]
  },
  {
   "cell_type": "code",
   "execution_count": 10,
   "id": "b19ccf09",
   "metadata": {},
   "outputs": [
    {
     "name": "stdout",
     "output_type": "stream",
     "text": [
      "Hasil uji t adalah -1.0769286927004496\n",
      "TItik kritis dua arah pada alpha adalah 2.1603686564610127\n",
      "H0 gagal ditolak artinya rata-rata sampel sama dengan rata-rata populasi\n"
     ]
    }
   ],
   "source": [
    "func_uji_t_1_mean([183, 152, 178, 157, 194, 163, 144, 144, 178, 152, 118, 158, 172, 138], 165, 0.05)"
   ]
  },
  {
   "cell_type": "markdown",
   "id": "bb60967c",
   "metadata": {},
   "source": [
    "# Pengujian Varians 2 populasi"
   ]
  },
  {
   "cell_type": "markdown",
   "id": "2446d1ee",
   "metadata": {},
   "source": [
    "# Menentukan uji statistik"
   ]
  },
  {
   "cell_type": "code",
   "execution_count": 11,
   "id": "641969e4",
   "metadata": {},
   "outputs": [
    {
     "name": "stdout",
     "output_type": "stream",
     "text": [
      "Varians Data A adalah 10.0\n",
      "Varians Data B adalah 38.0\n"
     ]
    }
   ],
   "source": [
    "Data_A = (19,22,24,27,24,18,20,19,25)\n",
    "Data_B = (26,37,40,35,30,30,40,26,30,35,45)\n",
    "\n",
    "mean_data1=np.mean(Data_A)\n",
    "mean_data2=np.mean(Data_B)\n",
    "\n",
    "n1 = len(Data_A)\n",
    "n2 = len(Data_B)\n",
    "diff1=(Data_A-mean_data1)**(2)\n",
    "var1=sum(diff1)/(n1-1)\n",
    "diff2=(Data_B-mean_data2)**(2)\n",
    "var2=sum(diff2)/(n2-1)\n",
    "print('Varians Data A adalah',var1)\n",
    "print('Varians Data B adalah',var2)\n"
   ]
  },
  {
   "cell_type": "code",
   "execution_count": 12,
   "id": "e33a5e28",
   "metadata": {},
   "outputs": [
    {
     "name": "stdout",
     "output_type": "stream",
     "text": [
      "Hasil F hitung adalah 3.8\n"
     ]
    }
   ],
   "source": [
    "if var2 > var1:\n",
    "    F_hit = var2 / var1\n",
    "    print('Hasil F hitung adalah', F_hit)\n",
    "else:\n",
    "    F_hit = var1 / var2\n",
    "    print('Hasil F hitung adalah', F_hit)"
   ]
  },
  {
   "cell_type": "markdown",
   "id": "c8b9c8cb",
   "metadata": {},
   "source": [
    "# Membuat F tabel dan memberi kesimpulan"
   ]
  },
  {
   "cell_type": "code",
   "execution_count": 13,
   "id": "2c47b5de",
   "metadata": {},
   "outputs": [
    {
     "name": "stdout",
     "output_type": "stream",
     "text": [
      "Hasil dari Ftabel adalah 3.3471631202339784\n",
      "Sehingga HD ditolak yang artinya varians 2 populasi tidak sama\n"
     ]
    }
   ],
   "source": [
    "import scipy.stats\n",
    "alpha=0.05\n",
    "df1=n1-1\n",
    "df2=n2-1\n",
    "if df1 > df2:\n",
    "    F_tabel= scipy.stats.f.ppf(q=1-alpha, dfn=df1, dfd=df2)\n",
    "    print('Hasil dari F tabel adalah',F_tabel)\n",
    "else:\n",
    "    F_tabel= scipy.stats.f.ppf(q=1-alpha, dfn=df2, dfd=df1)\n",
    "    print('Hasil dari Ftabel adalah',F_tabel)\n",
    "\n",
    "#keputusan\n",
    "    \n",
    "if F_hit > F_tabel:\n",
    "    print('Sehingga HD ditolak yang artinya varians 2 populasi tidak sama')\n",
    "else:\n",
    "    print('Sehingga HD gagal ditolak artinya varians 2 populasi sama')"
   ]
  },
  {
   "cell_type": "code",
   "execution_count": null,
   "id": "857cd734",
   "metadata": {},
   "outputs": [],
   "source": []
  }
 ],
 "metadata": {
  "kernelspec": {
   "display_name": "Python 3 (ipykernel)",
   "language": "python",
   "name": "python3"
  },
  "language_info": {
   "codemirror_mode": {
    "name": "ipython",
    "version": 3
   },
   "file_extension": ".py",
   "mimetype": "text/x-python",
   "name": "python",
   "nbconvert_exporter": "python",
   "pygments_lexer": "ipython3",
   "version": "3.9.12"
  }
 },
 "nbformat": 4,
 "nbformat_minor": 5
}
