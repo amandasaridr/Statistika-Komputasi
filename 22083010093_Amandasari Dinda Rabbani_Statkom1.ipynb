{
 "cells": [
  {
   "cell_type": "markdown",
   "id": "056e69bd",
   "metadata": {},
   "source": [
    "Operator Aritmatika"
   ]
  },
  {
   "cell_type": "code",
   "execution_count": 56,
   "id": "0a61e86d",
   "metadata": {},
   "outputs": [
    {
     "data": {
      "text/plain": [
       "6"
      ]
     },
     "execution_count": 56,
     "metadata": {},
     "output_type": "execute_result"
    }
   ],
   "source": [
    "3+5-2"
   ]
  },
  {
   "cell_type": "code",
   "execution_count": 57,
   "id": "31ff519a",
   "metadata": {},
   "outputs": [
    {
     "data": {
      "text/plain": [
       "10"
      ]
     },
     "execution_count": 57,
     "metadata": {},
     "output_type": "execute_result"
    }
   ],
   "source": [
    "20-5*2"
   ]
  },
  {
   "cell_type": "code",
   "execution_count": 58,
   "id": "b1aaf0c9",
   "metadata": {},
   "outputs": [
    {
     "data": {
      "text/plain": [
       "5.0"
      ]
     },
     "execution_count": 58,
     "metadata": {},
     "output_type": "execute_result"
    }
   ],
   "source": [
    "(20-5*2)/2"
   ]
  },
  {
   "cell_type": "code",
   "execution_count": 59,
   "id": "6beb3d1f",
   "metadata": {},
   "outputs": [
    {
     "data": {
      "text/plain": [
       "2.5"
      ]
     },
     "execution_count": 59,
     "metadata": {},
     "output_type": "execute_result"
    }
   ],
   "source": [
    "10/4"
   ]
  },
  {
   "cell_type": "code",
   "execution_count": 60,
   "id": "f1f5ceaa",
   "metadata": {},
   "outputs": [
    {
     "data": {
      "text/plain": [
       "2"
      ]
     },
     "execution_count": 60,
     "metadata": {},
     "output_type": "execute_result"
    }
   ],
   "source": [
    "10//4"
   ]
  },
  {
   "cell_type": "code",
   "execution_count": 61,
   "id": "7788c820",
   "metadata": {},
   "outputs": [
    {
     "data": {
      "text/plain": [
       "2"
      ]
     },
     "execution_count": 61,
     "metadata": {},
     "output_type": "execute_result"
    }
   ],
   "source": [
    "10%4"
   ]
  },
  {
   "cell_type": "code",
   "execution_count": 62,
   "id": "0a0a5637",
   "metadata": {},
   "outputs": [
    {
     "data": {
      "text/plain": [
       "81"
      ]
     },
     "execution_count": 62,
     "metadata": {},
     "output_type": "execute_result"
    }
   ],
   "source": [
    "3**4"
   ]
  },
  {
   "cell_type": "markdown",
   "id": "59a0d3df",
   "metadata": {},
   "source": [
    "Operator Asiggnment"
   ]
  },
  {
   "cell_type": "code",
   "execution_count": 6,
   "id": "e89ef1a3",
   "metadata": {},
   "outputs": [
    {
     "data": {
      "text/plain": [
       "100"
      ]
     },
     "execution_count": 6,
     "metadata": {},
     "output_type": "execute_result"
    }
   ],
   "source": [
    "benda1=50\n",
    "benda2=50\n",
    "benda1+benda2"
   ]
  },
  {
   "cell_type": "code",
   "execution_count": 7,
   "id": "df54a060",
   "metadata": {},
   "outputs": [
    {
     "data": {
      "text/plain": [
       "20"
      ]
     },
     "execution_count": 7,
     "metadata": {},
     "output_type": "execute_result"
    }
   ],
   "source": [
    "var=5\n",
    "var+=15\n",
    "var"
   ]
  },
  {
   "cell_type": "markdown",
   "id": "43df8acb",
   "metadata": {},
   "source": [
    "Operator String"
   ]
  },
  {
   "cell_type": "code",
   "execution_count": 8,
   "id": "de8eda7a",
   "metadata": {},
   "outputs": [
    {
     "data": {
      "text/plain": [
       "'contoh string yang tunggal'"
      ]
     },
     "execution_count": 8,
     "metadata": {},
     "output_type": "execute_result"
    }
   ],
   "source": [
    "\"contoh string yang tunggal\""
   ]
  },
  {
   "cell_type": "code",
   "execution_count": 9,
   "id": "af2a1d39",
   "metadata": {},
   "outputs": [
    {
     "data": {
      "text/plain": [
       "'contoh string yang tunggal'"
      ]
     },
     "execution_count": 9,
     "metadata": {},
     "output_type": "execute_result"
    }
   ],
   "source": [
    "\"contoh string yang tunggal\""
   ]
  },
  {
   "cell_type": "code",
   "execution_count": 12,
   "id": "d2e8e116",
   "metadata": {},
   "outputs": [
    {
     "name": "stdout",
     "output_type": "stream",
     "text": [
      "mangga dan apel adalah buah-buahan\n"
     ]
    }
   ],
   "source": [
    "print (\"mangga\", \"dan apel\", \"adalah buah-buahan\")"
   ]
  },
  {
   "cell_type": "code",
   "execution_count": 13,
   "id": "881e26fc",
   "metadata": {},
   "outputs": [
    {
     "name": "stdout",
     "output_type": "stream",
     "text": [
      "why we don't play football?\n"
     ]
    }
   ],
   "source": [
    "print (\"why we don\\'t play football?\")"
   ]
  },
  {
   "cell_type": "markdown",
   "id": "74e59044",
   "metadata": {},
   "source": [
    "String indexing"
   ]
  },
  {
   "cell_type": "code",
   "execution_count": 14,
   "id": "fda3e2ba",
   "metadata": {},
   "outputs": [
    {
     "name": "stdout",
     "output_type": "stream",
     "text": [
      "T\n"
     ]
    }
   ],
   "source": [
    "x = \"This is a text sring\"\n",
    "print(x[0])"
   ]
  },
  {
   "cell_type": "code",
   "execution_count": 15,
   "id": "59ffaa63",
   "metadata": {},
   "outputs": [
    {
     "name": "stdout",
     "output_type": "stream",
     "text": [
      "g\n"
     ]
    }
   ],
   "source": [
    "print(x[-1])"
   ]
  },
  {
   "cell_type": "code",
   "execution_count": 16,
   "id": "462e03f4",
   "metadata": {},
   "outputs": [
    {
     "name": "stdout",
     "output_type": "stream",
     "text": [
      "This is\n"
     ]
    }
   ],
   "source": [
    "print(x[0:7])"
   ]
  },
  {
   "cell_type": "code",
   "execution_count": 17,
   "id": "65c7327b",
   "metadata": {},
   "outputs": [
    {
     "name": "stdout",
     "output_type": "stream",
     "text": [
      "This is a test string\n"
     ]
    }
   ],
   "source": [
    "str1=\"This is a test string\"\n",
    "print(str1.strip())"
   ]
  },
  {
   "cell_type": "code",
   "execution_count": 18,
   "id": "f27fe622",
   "metadata": {},
   "outputs": [
    {
     "name": "stdout",
     "output_type": "stream",
     "text": [
      "this is a test string\n"
     ]
    }
   ],
   "source": [
    "str2=\"This is a test string\"\n",
    "print(str2.lower())"
   ]
  },
  {
   "cell_type": "code",
   "execution_count": 19,
   "id": "3322ce85",
   "metadata": {},
   "outputs": [
    {
     "name": "stdout",
     "output_type": "stream",
     "text": [
      "THIS IS A TEST STRING\n"
     ]
    }
   ],
   "source": [
    "str3=\"This is a test string\"\n",
    "print(str3.upper())"
   ]
  },
  {
   "cell_type": "code",
   "execution_count": 20,
   "id": "f38cbf06",
   "metadata": {},
   "outputs": [
    {
     "name": "stdout",
     "output_type": "stream",
     "text": [
      "I ate a mangga\n"
     ]
    }
   ],
   "source": [
    "str4=\"I ate a banana\"\n",
    "print(str4.replace(\"banana\",\"mangga\"))"
   ]
  },
  {
   "cell_type": "code",
   "execution_count": 21,
   "id": "65699dfc",
   "metadata": {},
   "outputs": [
    {
     "name": "stdout",
     "output_type": "stream",
     "text": [
      "['Hi mate', ' how do you do?']\n"
     ]
    }
   ],
   "source": [
    "str5=\"Hi mate, how do you do?\"\n",
    "print(str5.split(\",\"))"
   ]
  },
  {
   "cell_type": "markdown",
   "id": "e68a2ea6",
   "metadata": {},
   "source": [
    "Conditional Statements and Iterations"
   ]
  },
  {
   "cell_type": "code",
   "execution_count": null,
   "id": "3e4a062c",
   "metadata": {},
   "outputs": [],
   "source": [
    "Student_marks = 90\n",
    "if(Student_marks>100):\n",
    "    print(\"marks exceed 100.\")"
   ]
  },
  {
   "cell_type": "code",
   "execution_count": 22,
   "id": "f5dbbed6",
   "metadata": {},
   "outputs": [
    {
     "name": "stdout",
     "output_type": "stream",
     "text": [
      "Enter marks obtained by a student\n",
      "50\n"
     ]
    }
   ],
   "source": [
    "print((\"Enter marks obtained by a student\"))\n",
    "student_marks =int(input())\n",
    "if(student_marks >100):\n",
    "    print(\"marks exceed 100.\")"
   ]
  },
  {
   "cell_type": "code",
   "execution_count": 23,
   "id": "294b42aa",
   "metadata": {},
   "outputs": [
    {
     "name": "stdout",
     "output_type": "stream",
     "text": [
      "Input marks of a student\n",
      "40\n",
      "Not outsanding\n"
     ]
    }
   ],
   "source": [
    "print('Input marks of a student')\n",
    "student_marks =int(input())\n",
    "if(student_marks >= 80):\n",
    "    print(\"Outsanding\")\n",
    "else:\n",
    "    print(\"Not outsanding\")"
   ]
  },
  {
   "cell_type": "code",
   "execution_count": 24,
   "id": "227d5b9a",
   "metadata": {},
   "outputs": [
    {
     "name": "stdout",
     "output_type": "stream",
     "text": [
      "Probability\n",
      "Statistics\n",
      "Machine Learning\n",
      "Data Science\n",
      "Arificial Intelligence\n"
     ]
    }
   ],
   "source": [
    "subject = [\"Probability\", \"Statistics\", \"Machine Learning\", \"Data Science\", \"Arificial Intelligence\"]\n",
    "for k in subject:\n",
    "    print(k)"
   ]
  },
  {
   "cell_type": "code",
   "execution_count": 26,
   "id": "6259a663",
   "metadata": {},
   "outputs": [
    {
     "name": "stdout",
     "output_type": "stream",
     "text": [
      "0\n",
      "1\n",
      "2\n",
      "3\n",
      "4\n"
     ]
    }
   ],
   "source": [
    "for k in range(5):\n",
    "    print(k)"
   ]
  },
  {
   "cell_type": "code",
   "execution_count": 28,
   "id": "e31adaf8",
   "metadata": {},
   "outputs": [
    {
     "name": "stdout",
     "output_type": "stream",
     "text": [
      "3\n",
      "6\n",
      "9\n"
     ]
    }
   ],
   "source": [
    "for x in range(3,12,3):\n",
    "    print(x)"
   ]
  },
  {
   "cell_type": "code",
   "execution_count": 29,
   "id": "44baca10",
   "metadata": {},
   "outputs": [
    {
     "name": "stdout",
     "output_type": "stream",
     "text": [
      "Adam\n",
      "Alice\n",
      "Emma\n"
     ]
    }
   ],
   "source": [
    "students = [\"Adam\", \"Alice\", \"Bob\", \"Emma\", \"Julia\"]\n",
    "for k in students:\n",
    "    if k == \"Bob\":\n",
    "        continue\n",
    "    print(k)\n",
    "    if k == \"Emma\":\n",
    "        break"
   ]
  },
  {
   "cell_type": "code",
   "execution_count": 30,
   "id": "3c0ccd4d",
   "metadata": {},
   "outputs": [
    {
     "name": "stdout",
     "output_type": "stream",
     "text": [
      "Input an Integer=10\n",
      "j =  1 sum = 1\n",
      "j =  2 sum = 3\n",
      "j =  3 sum = 6\n",
      "j =  4 sum = 10\n",
      "j =  5 sum = 15\n",
      "j =  6 sum = 21\n",
      "j =  7 sum = 28\n",
      "j =  8 sum = 36\n",
      "j =  9 sum = 45\n",
      "j =  10 sum = 55\n"
     ]
    }
   ],
   "source": [
    "n = int(input(\"Input an Integer=\"))\n",
    "#inisialisasi variabel sum dan j (counter)\n",
    "sum = 0\n",
    "j = 1\n",
    "while j <=n:\n",
    "    sum = sum + j\n",
    "    print(\"j = \",j,\"sum =\",sum)\n",
    "    j =j+1"
   ]
  },
  {
   "cell_type": "markdown",
   "id": "652ed7e6",
   "metadata": {},
   "source": [
    "Nested Loop"
   ]
  },
  {
   "cell_type": "code",
   "execution_count": 31,
   "id": "da4327d5",
   "metadata": {},
   "outputs": [
    {
     "name": "stdout",
     "output_type": "stream",
     "text": [
      "heavy chair\n",
      "heavy table\n",
      "heavy computer\n",
      "wooden chair\n",
      "wooden table\n",
      "wooden computer\n",
      "fast chair\n",
      "fast table\n",
      "fast computer\n"
     ]
    }
   ],
   "source": [
    "atribut = [\"heavy\",\"wooden\",\"fast\"]\n",
    "objek = [\"chair\",\"table\",\"computer\"]\n",
    "for j in atribut:\n",
    "    for k in objek:\n",
    "        print(j,k)"
   ]
  },
  {
   "cell_type": "markdown",
   "id": "7fc93496",
   "metadata": {},
   "source": [
    "Functions in python"
   ]
  },
  {
   "cell_type": "code",
   "execution_count": 33,
   "id": "225a23ac",
   "metadata": {},
   "outputs": [
    {
     "name": "stdout",
     "output_type": "stream",
     "text": [
      "This is a test function\n"
     ]
    }
   ],
   "source": [
    "def my_function1():\n",
    "    print(\"This is a test function\")\n",
    "    \n",
    "my_function1()"
   ]
  },
  {
   "cell_type": "code",
   "execution_count": 34,
   "id": "8ce11893",
   "metadata": {},
   "outputs": [
    {
     "name": "stdout",
     "output_type": "stream",
     "text": [
      "This function prints its input that is computer\n",
      "This function prints its input that is table\n",
      "This function prints its input that is chair\n"
     ]
    }
   ],
   "source": [
    "def my_function2(str_ln):\n",
    "    print(\"This function prints its input that is \"+str_ln)\n",
    "    \n",
    "my_function2(\"computer\")\n",
    "my_function2(\"table\")\n",
    "my_function2(\"chair\")"
   ]
  },
  {
   "cell_type": "code",
   "execution_count": 35,
   "id": "81733f5e",
   "metadata": {},
   "outputs": [
    {
     "name": "stdout",
     "output_type": "stream",
     "text": [
      "Mangga is my favorite fruit.\n"
     ]
    }
   ],
   "source": [
    "def my_function3(*myfruits):\n",
    "    print(myfruits[0],\"is my favorite fruit.\")\n",
    "my_function3(\"Mangga\", \"Apple\", \"Orange\")"
   ]
  },
  {
   "cell_type": "code",
   "execution_count": 37,
   "id": "dfeec09b",
   "metadata": {},
   "outputs": [],
   "source": [
    "def mult_by_10(k):\n",
    "    return 10*k"
   ]
  },
  {
   "cell_type": "code",
   "execution_count": 38,
   "id": "7814ef1f",
   "metadata": {},
   "outputs": [
    {
     "name": "stdout",
     "output_type": "stream",
     "text": [
      "hasilnya adalah 20\n"
     ]
    }
   ],
   "source": [
    "print(\"hasilnya adalah\",mult_by_10(2))"
   ]
  },
  {
   "cell_type": "code",
   "execution_count": 39,
   "id": "213e994c",
   "metadata": {},
   "outputs": [
    {
     "name": "stdout",
     "output_type": "stream",
     "text": [
      "['backpack', 'laptop', 'ballpoint', 'sunglasses']\n"
     ]
    }
   ],
   "source": [
    "item_list =[\"backpack\", \"laptop\", \"ballpoint\", \"sunglasses\"]\n",
    "print(item_list)"
   ]
  },
  {
   "cell_type": "code",
   "execution_count": 40,
   "id": "df4522b5",
   "metadata": {},
   "outputs": [
    {
     "name": "stdout",
     "output_type": "stream",
     "text": [
      "ballpoint\n",
      "laptop\n",
      "['laptop', 'ballpoint']\n"
     ]
    }
   ],
   "source": [
    "print(item_list[2])\n",
    "print(item_list[-3])\n",
    "print(item_list[1:3])"
   ]
  },
  {
   "cell_type": "code",
   "execution_count": 41,
   "id": "7bc2e812",
   "metadata": {},
   "outputs": [
    {
     "name": "stdout",
     "output_type": "stream",
     "text": [
      "['backpack', 'computer', 'ballpoint', 'sunglasses']\n"
     ]
    }
   ],
   "source": [
    "item_list[1] = \"computer\"\n",
    "print(item_list)"
   ]
  },
  {
   "cell_type": "code",
   "execution_count": 45,
   "id": "672337e9",
   "metadata": {},
   "outputs": [
    {
     "name": "stdout",
     "output_type": "stream",
     "text": [
      "('Python', 'For', 'Statistics')\n"
     ]
    }
   ],
   "source": [
    "py_stat = ('Python', 'For', 'Statistics')\n",
    "print(py_stat)"
   ]
  },
  {
   "cell_type": "code",
   "execution_count": 50,
   "id": "d2f1c429",
   "metadata": {},
   "outputs": [
    {
     "name": "stdout",
     "output_type": "stream",
     "text": [
      "0\n",
      "1\n"
     ]
    }
   ],
   "source": [
    "py_stat2 = ('python', 'has support for', 'Statistics')\n",
    "print(py_stat2.count('stat'))\n",
    "print(py_stat2.count('Statistics'))"
   ]
  },
  {
   "cell_type": "code",
   "execution_count": 49,
   "id": "c9d8464d",
   "metadata": {},
   "outputs": [
    {
     "name": "stdout",
     "output_type": "stream",
     "text": [
      "0\n",
      "2\n"
     ]
    },
    {
     "ename": "ValueError",
     "evalue": "tuple.index(x): x not in tuple",
     "output_type": "error",
     "traceback": [
      "\u001b[1;31m---------------------------------------------------------------------------\u001b[0m",
      "\u001b[1;31mValueError\u001b[0m                                Traceback (most recent call last)",
      "Input \u001b[1;32mIn [49]\u001b[0m, in \u001b[0;36m<cell line: 3>\u001b[1;34m()\u001b[0m\n\u001b[0;32m      1\u001b[0m \u001b[38;5;28mprint\u001b[39m(py_stat2\u001b[38;5;241m.\u001b[39mindex(\u001b[38;5;124m'\u001b[39m\u001b[38;5;124mpython\u001b[39m\u001b[38;5;124m'\u001b[39m))\n\u001b[0;32m      2\u001b[0m \u001b[38;5;28mprint\u001b[39m(py_stat2\u001b[38;5;241m.\u001b[39mindex(\u001b[38;5;124m'\u001b[39m\u001b[38;5;124mStatistics\u001b[39m\u001b[38;5;124m'\u001b[39m))\n\u001b[1;32m----> 3\u001b[0m \u001b[38;5;28mprint\u001b[39m(\u001b[43mpy_stat2\u001b[49m\u001b[38;5;241;43m.\u001b[39;49m\u001b[43mindex\u001b[49m\u001b[43m(\u001b[49m\u001b[38;5;124;43m'\u001b[39;49m\u001b[38;5;124;43mprobability\u001b[39;49m\u001b[38;5;124;43m'\u001b[39;49m\u001b[43m)\u001b[49m)\n",
      "\u001b[1;31mValueError\u001b[0m: tuple.index(x): x not in tuple"
     ]
    }
   ],
   "source": [
    "print(py_stat2.index('python'))\n",
    "print(py_stat2.index('Statistics'))\n",
    "print(py_stat2.index('probability'))"
   ]
  },
  {
   "cell_type": "code",
   "execution_count": 51,
   "id": "5ca0bf6b",
   "metadata": {},
   "outputs": [
    {
     "name": "stdout",
     "output_type": "stream",
     "text": [
      "['cat', 'dog', 'tiger', 'fox']\n"
     ]
    }
   ],
   "source": [
    "my_animals = [\"cat\", \"dog\", \"tiger\", \"fox\"]\n",
    "print(my_animals)"
   ]
  },
  {
   "cell_type": "code",
   "execution_count": 52,
   "id": "a09305ce",
   "metadata": {},
   "outputs": [
    {
     "name": "stdout",
     "output_type": "stream",
     "text": [
      "cat\n",
      "dog\n",
      "tiger\n",
      "fox\n"
     ]
    }
   ],
   "source": [
    "my_animals = [\"cat\", \"dog\", \"tiger\", \"fox\"]\n",
    "for x in my_animals:\n",
    "    print(x)"
   ]
  },
  {
   "cell_type": "code",
   "execution_count": 53,
   "id": "cc13ef42",
   "metadata": {},
   "outputs": [
    {
     "name": "stdout",
     "output_type": "stream",
     "text": [
      "True\n",
      "False\n"
     ]
    }
   ],
   "source": [
    "print(\"tiger\" in my_animals)\n",
    "print(\"lion\" in my_animals)"
   ]
  },
  {
   "cell_type": "code",
   "execution_count": 54,
   "id": "dc9f2207",
   "metadata": {},
   "outputs": [
    {
     "name": "stdout",
     "output_type": "stream",
     "text": [
      "{'name': 'Python', 'purpose': 'statistics', 'year': 2020}\n"
     ]
    }
   ],
   "source": [
    "py_stat_dict = {\"name\" : \"Python\", \n",
    "                \"purpose\" : \"statistics\", \n",
    "                \"year\" : 2020}\n",
    "print(py_stat_dict)"
   ]
  },
  {
   "cell_type": "code",
   "execution_count": 55,
   "id": "c00cb139",
   "metadata": {},
   "outputs": [
    {
     "name": "stdout",
     "output_type": "stream",
     "text": [
      "Python\n",
      "statistics\n"
     ]
    }
   ],
   "source": [
    "print(py_stat_dict[\"name\"])\n",
    "print(py_stat_dict.get(\"purpose\"))"
   ]
  },
  {
   "cell_type": "code",
   "execution_count": null,
   "id": "141bfb79",
   "metadata": {},
   "outputs": [],
   "source": []
  }
 ],
 "metadata": {
  "kernelspec": {
   "display_name": "Python 3 (ipykernel)",
   "language": "python",
   "name": "python3"
  },
  "language_info": {
   "codemirror_mode": {
    "name": "ipython",
    "version": 3
   },
   "file_extension": ".py",
   "mimetype": "text/x-python",
   "name": "python",
   "nbconvert_exporter": "python",
   "pygments_lexer": "ipython3",
   "version": "3.9.12"
  }
 },
 "nbformat": 4,
 "nbformat_minor": 5
}
